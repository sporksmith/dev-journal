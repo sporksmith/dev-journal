{
 "cells": [
  {
   "cell_type": "markdown",
   "metadata": {},
   "source": [
    "# TLDR\n",
    "\n",
    "Calls within libc are generally pre-linked. As a result, they can't be interposed using `LD_PRELOAD`. This makes it tricky to use `LD_PRELOAD` to intercept, e.g., all calls to `write`. "
   ]
  },
  {
   "cell_type": "markdown",
   "metadata": {},
   "source": [
    "## An example program\n",
    "\n",
    "For demo purposes we'll use a program that makes a single call to `fwrite`:"
   ]
  },
  {
   "cell_type": "code",
   "execution_count": 10,
   "metadata": {
    "scrolled": true
   },
   "outputs": [
    {
     "name": "stdout",
     "output_type": "stream",
     "text": [
      "#include <stdio.h>\n",
      "#include <string.h>\n",
      "\n",
      "int main(int argc, char **argv) {\n",
      "    const char *msg = \"Hello fwrite\\n\";\n",
      "    fwrite(msg, 1, strlen(msg), stdout);\n",
      "    return 0;\n",
      "}\n"
     ]
    }
   ],
   "source": [
    "cat ./fwrite.c"
   ]
  },
  {
   "cell_type": "markdown",
   "metadata": {},
   "source": [
    "## Interposing fwrite works\n",
    "\n",
    "Let's look at what happens when interposition works as expected. We'll interpose on `fwrite` itself, to make each such call twice."
   ]
  },
  {
   "cell_type": "code",
   "execution_count": 2,
   "metadata": {},
   "outputs": [
    {
     "name": "stdout",
     "output_type": "stream",
     "text": [
      "#define _GNU_SOURCE\n",
      "\n",
      "#include <stdio.h>\n",
      "#include <dlfcn.h>\n",
      "\n",
      "size_t fwrite(const void* ptr, size_t size, size_t nmemb, FILE* stream) {\n",
      "    size_t (*orig_fwrite)(const void* ptr, size_t size, size_t nmemb,\n",
      "                          FILE* stream) = dlsym(RTLD_NEXT, \"fwrite\");\n",
      "    orig_fwrite(ptr, size, nmemb, stream);\n",
      "    return orig_fwrite(ptr, size, nmemb, stream);\n",
      "}\n"
     ]
    }
   ],
   "source": [
    "cat interpose_fwrite.c"
   ]
  },
  {
   "cell_type": "code",
   "execution_count": 4,
   "metadata": {},
   "outputs": [
    {
     "name": "stdout",
     "output_type": "stream",
     "text": [
      "Hello fwrite\n",
      "Hello fwrite\n"
     ]
    }
   ],
   "source": [
    "LD_PRELOAD=$PWD/interpose_fwrite.so ./fwrite"
   ]
  },
  {
   "cell_type": "markdown",
   "metadata": {},
   "source": [
    "This works because the call to fwrite happens via the PLT:"
   ]
  },
  {
   "cell_type": "code",
   "execution_count": 5,
   "metadata": {},
   "outputs": [
    {
     "name": "stdout",
     "output_type": "stream",
     "text": [
      "  4005b6:\te8 a5 fe ff ff       \tcallq  400460 <fwrite@plt>\n"
     ]
    }
   ],
   "source": [
    "objdump -D fwrite | grep 'call.*fwrite'"
   ]
  },
  {
   "cell_type": "markdown",
   "metadata": {},
   "source": [
    "We can also turn on the dynamic linker's debug output to see this binding happen. Without `LD_PRELOAD`, `fwrite` gets bound to libc's symbol:"
   ]
  },
  {
   "cell_type": "code",
   "execution_count": 6,
   "metadata": {},
   "outputs": [
    {
     "name": "stdout",
     "output_type": "stream",
     "text": [
      "      3618:\tbinding file ./fwrite [0] to /lib/x86_64-linux-gnu/libc.so.6 [0]: normal symbol `fwrite' [GLIBC_2.2.5]\n"
     ]
    }
   ],
   "source": [
    "LD_DEBUG=bindings ./fwrite 2>&1 | grep 'symbol.*fwrite'"
   ]
  },
  {
   "cell_type": "markdown",
   "metadata": {},
   "source": [
    "With `LD_PRELOAD`, it gets bound to our preloaded library instead:"
   ]
  },
  {
   "cell_type": "code",
   "execution_count": 7,
   "metadata": {},
   "outputs": [
    {
     "name": "stdout",
     "output_type": "stream",
     "text": [
      "      3630:\tbinding file ./fwrite [0] to /home/jnewsome/projects/dev-journal/interposing-fwrite/interpose_fwrite.so [0]: normal symbol `fwrite' [GLIBC_2.2.5]\n",
      "      3630:\tbinding file /home/jnewsome/projects/dev-journal/interposing-fwrite/interpose_fwrite.so [0] to /lib/x86_64-linux-gnu/libc.so.6 [0]: normal symbol `fwrite'\n"
     ]
    }
   ],
   "source": [
    "LD_DEBUG=bindings LD_PRELOAD=$PWD/interpose_fwrite.so ./fwrite 2>&1 | grep 'symbol.*fwrite'"
   ]
  },
  {
   "cell_type": "markdown",
   "metadata": {},
   "source": [
    "## Interposing write alone doesn't work\n",
    "\n",
    "So far so good. But if we want to apply our doubling to *all* writes, there are a bunch of other output functions we'll need to intercept. e.g. `printf`, `fprintf`, `puts`, ... Can we do so without writing wrappers for all of these and duplicating our doubling logic in all of them?\n",
    "\n",
    "Ultimately these all end up making a `write` system call. Maybe we"
   ]
  },
  {
   "cell_type": "code",
   "execution_count": 9,
   "metadata": {
    "scrolled": false
   },
   "outputs": [
    {
     "name": "stdout",
     "output_type": "stream",
     "text": [
      "write(1, \"Hello fwrite\\n\", 13Hello fwrite\n",
      ")          = 13\n",
      " > /lib/x86_64-linux-gnu/libc-2.27.so(__write+0x14) [0x110154]\n",
      " > /lib/x86_64-linux-gnu/libc-2.27.so(_IO_file_write+0x2d) [0x8b1bd]\n",
      " > /lib/x86_64-linux-gnu/libc-2.27.so(_IO_do_write+0xb1) [0x8cf51]\n",
      " > /lib/x86_64-linux-gnu/libc-2.27.so(_IO_file_overflow+0x103) [0x8d403]\n",
      " > /lib/x86_64-linux-gnu/libc-2.27.so(_IO_default_xsputn+0x74) [0x8e494]\n",
      " > /lib/x86_64-linux-gnu/libc-2.27.so(_IO_file_xsputn+0x103) [0x8ba33]\n",
      " > /lib/x86_64-linux-gnu/libc-2.27.so(fwrite+0xd7) [0x7f977]\n",
      " > /home/jnewsome/projects/dev-journal/interposing-fwrite/fwrite(main+0x5b) [0x5bb]\n",
      " > /lib/x86_64-linux-gnu/libc-2.27.so(__libc_start_main+0xe7) [0x21b97]\n",
      " > /home/jnewsome/projects/dev-journal/interposing-fwrite/fwrite(_start+0x2a) [0x49a]\n",
      "+++ exited with 0 +++\n"
     ]
    }
   ],
   "source": [
    "strace -k -e write ./fwrite 2>&1"
   ]
  },
  {
   "cell_type": "code",
   "execution_count": 12,
   "metadata": {},
   "outputs": [
    {
     "name": "stdout",
     "output_type": "stream",
     "text": [
      "Hello fwrite\n"
     ]
    }
   ],
   "source": [
    "LD_PRELOAD=$PWD/interpose_write.so ./fwrite"
   ]
  },
  {
   "cell_type": "markdown",
   "metadata": {},
   "source": [
    "## strace\n",
    "\n",
    "We can use strace with the -k option to get the callstack at each syscall. Here we're interested in the call stack of the `write` syscall, so we grep for just that bit:"
   ]
  },
  {
   "cell_type": "code",
   "execution_count": 1,
   "metadata": {},
   "outputs": [
    {
     "name": "stdout",
     "output_type": "stream",
     "text": [
      "/home/jnewsome/projects/dev-journal/interposing-fwrite\n"
     ]
    }
   ],
   "source": [
    "pwd"
   ]
  },
  {
   "cell_type": "code",
   "execution_count": null,
   "metadata": {},
   "outputs": [],
   "source": []
  },
  {
   "cell_type": "code",
   "execution_count": null,
   "metadata": {},
   "outputs": [],
   "source": []
  },
  {
   "cell_type": "code",
   "execution_count": null,
   "metadata": {},
   "outputs": [],
   "source": []
  },
  {
   "cell_type": "code",
   "execution_count": null,
   "metadata": {},
   "outputs": [],
   "source": []
  },
  {
   "cell_type": "code",
   "execution_count": null,
   "metadata": {},
   "outputs": [],
   "source": []
  }
 ],
 "metadata": {
  "kernelspec": {
   "display_name": "Bash",
   "language": "bash",
   "name": "bash"
  },
  "language_info": {
   "codemirror_mode": "shell",
   "file_extension": ".sh",
   "mimetype": "text/x-sh",
   "name": "bash"
  }
 },
 "nbformat": 4,
 "nbformat_minor": 4
}
