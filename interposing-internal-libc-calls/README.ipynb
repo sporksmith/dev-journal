{
 "cells": [
  {
   "cell_type": "markdown",
   "metadata": {},
   "source": [
    "# Interposing internal libc calls\n",
    "\n",
    "## TLDR\n",
    "\n",
    "Calls within libc are generally pre-linked. As a result, they can't be interposed using `LD_PRELOAD`. This makes it tricky to use `LD_PRELOAD` to intercept, e.g., all calls to `write`, but there are some workarounds."
   ]
  },
  {
   "cell_type": "markdown",
   "metadata": {},
   "source": [
    "## Doubling all writes to standard output\n",
    "\n",
    "Suppose we want to use `LD_PRELOAD` to force any output to `stdout` to happen twice. We'll start with a simple program that writes to `stdout` once:"
   ]
  },
  {
   "cell_type": "code",
   "execution_count": 25,
   "metadata": {
    "scrolled": true
   },
   "outputs": [
    {
     "name": "stdout",
     "output_type": "stream",
     "text": [
      "#include <unistd.h>\n",
      "#include <string.h>\n",
      "\n",
      "int main(int argc, char **argv) {\n",
      "    const char *msg = \"Hello write\\n\";\n",
      "    write(STDOUT_FILENO, msg, strlen(msg));\n",
      "    return 0;\n",
      "}\n"
     ]
    }
   ],
   "source": [
    "cat ./call_write.c"
   ]
  },
  {
   "cell_type": "markdown",
   "metadata": {},
   "source": [
    "When we run `./call_write` we get the expected output:"
   ]
  },
  {
   "cell_type": "code",
   "execution_count": 26,
   "metadata": {},
   "outputs": [
    {
     "name": "stdout",
     "output_type": "stream",
     "text": [
      "Hello write\n"
     ]
    }
   ],
   "source": [
    "./call_write"
   ]
  },
  {
   "cell_type": "markdown",
   "metadata": {},
   "source": [
    "If we examine the compiled binary, we can see that the call is made through the PLT (Procedure Linkage Table):"
   ]
  },
  {
   "cell_type": "code",
   "execution_count": 28,
   "metadata": {},
   "outputs": [
    {
     "name": "stdout",
     "output_type": "stream",
     "text": [
      "call_write:     file format elf64-x86-64\n",
      "  400567:\te8 a4 fe ff ff       \tcallq  400410 <write@plt>\n"
     ]
    }
   ],
   "source": [
    "objdump -D call_write | grep 'call.*write'"
   ]
  },
  {
   "cell_type": "markdown",
   "metadata": {},
   "source": [
    "This means that at run-time, the dynamic linker is responsible for finding the address of `write` and patching it into the PLT. This `call` instruction will then use the patched table to call the correct function. We can enable debugging-output in the dynamic linker to see that it resolves the `write` symbol to libc, as expected:"
   ]
  },
  {
   "cell_type": "code",
   "execution_count": 30,
   "metadata": {},
   "outputs": [
    {
     "name": "stdout",
     "output_type": "stream",
     "text": [
      "     11280:\tbinding file ./call_write [0] to /lib/x86_64-linux-gnu/libc.so.6 [0]: normal symbol `write' [GLIBC_2.2.5]\n"
     ]
    }
   ],
   "source": [
    "LD_DEBUG=bindings ./call_write 2>&1 | grep 'symbol.*write'"
   ]
  },
  {
   "cell_type": "markdown",
   "metadata": {},
   "source": [
    "### Interposing a direct call to write works\n",
    "\n",
    "We can *interpose* this call to `write` by using the `LD_PRELOAD` environment variable to tell the dynamic linker to try resolving symbols in *our* library that we provide before any other libraries.\n",
    "\n",
    "Let's create a small library with our own implementation of `write`. We'll simply get the symbol for libc's `write`, and then call it twice."
   ]
  },
  {
   "cell_type": "code",
   "execution_count": 31,
   "metadata": {},
   "outputs": [
    {
     "name": "stdout",
     "output_type": "stream",
     "text": [
      "#define _GNU_SOURCE\n",
      "\n",
      "#include <dlfcn.h>\n",
      "#include <unistd.h>\n",
      "\n",
      "ssize_t write(int fd, const void *buf, size_t count) {\n",
      "    // Look up the next `write` symbol, which will be glibc's\n",
      "    ssize_t (*orig_write)(int fd, const void *buf, size_t count) = \n",
      "        dlsym(RTLD_NEXT, \"write\");\n",
      "    if (STDOUT_FILENO) {\n",
      "        // If we're writing to stdout, call the original function an extra time.\n",
      "        orig_write(fd, buf, count);\n",
      "    }\n",
      "    return orig_write(fd, buf, count);\n",
      "}\n"
     ]
    }
   ],
   "source": [
    "cat interpose_write.c"
   ]
  },
  {
   "cell_type": "markdown",
   "metadata": {},
   "source": [
    "Using `LD_PRELOAD`, this works as expected. The call to `write` from our `call_fwrite` program is intercepted, and we see the output twice:"
   ]
  },
  {
   "cell_type": "code",
   "execution_count": 32,
   "metadata": {},
   "outputs": [
    {
     "name": "stdout",
     "output_type": "stream",
     "text": [
      "Hello write\n",
      "Hello write\n"
     ]
    }
   ],
   "source": [
    "LD_PRELOAD=$PWD/interpose_write.so ./call_write"
   ]
  },
  {
   "cell_type": "markdown",
   "metadata": {},
   "source": [
    "We can also examine the dynamic linker's debug output again to see that it resolves `write` twice. First when patching the PLT it finds our `write`. At run-time when we ask it for the \"next\" `write`, it finds libc's version:"
   ]
  },
  {
   "cell_type": "code",
   "execution_count": 35,
   "metadata": {},
   "outputs": [
    {
     "name": "stdout",
     "output_type": "stream",
     "text": [
      "     11297:\tbinding file ./call_write [0] to /home/jnewsome/projects/dev-journal/interposing-fwrite/interposing-fwrite/interpose_write.so [0]: normal symbol `write' [GLIBC_2.2.5]\n",
      "     11297:\tbinding file /home/jnewsome/projects/dev-journal/interposing-fwrite/interposing-fwrite/interpose_write.so [0] to /lib/x86_64-linux-gnu/libc.so.6 [0]: normal symbol `write'\n"
     ]
    }
   ],
   "source": [
    "LD_DEBUG=bindings LD_PRELOAD=$PWD/interpose_write.so ./call_write 2>&1 | grep 'symbol.*write'"
   ]
  },
  {
   "cell_type": "markdown",
   "metadata": {},
   "source": [
    "## Interposing *all* the writes\n",
    "\n",
    "So far so good. What happens though if the program we're interposing calls some other libc function to write to standard output? They'll all end up eventually needing to make a `write` system call, so our wrapper should still work... right?\n",
    "\n",
    "Let's see what happens if the program calls `fwrite` instead of `write`:"
   ]
  },
  {
   "cell_type": "code",
   "execution_count": 36,
   "metadata": {},
   "outputs": [
    {
     "name": "stdout",
     "output_type": "stream",
     "text": [
      "#include <stdio.h>\n",
      "#include <string.h>\n",
      "\n",
      "int main(int argc, char **argv) {\n",
      "    const char *msg = \"Hello fwrite\\n\";\n",
      "    fwrite(msg, 1, strlen(msg), stdout);\n",
      "    return 0;\n",
      "}\n"
     ]
    }
   ],
   "source": [
    "cat call_fwrite.c"
   ]
  },
  {
   "cell_type": "code",
   "execution_count": 37,
   "metadata": {},
   "outputs": [
    {
     "name": "stdout",
     "output_type": "stream",
     "text": [
      "Hello fwrite\n"
     ]
    }
   ],
   "source": [
    "LD_PRELOAD=$PWD/interpose_write.so ./call_fwrite"
   ]
  },
  {
   "cell_type": "markdown",
   "metadata": {},
   "source": [
    "It didn't work. To find out why, let's look at calls to `write` from within libc:"
   ]
  },
  {
   "cell_type": "code",
   "execution_count": 20,
   "metadata": {},
   "outputs": [
    {
     "name": "stdout",
     "output_type": "stream",
     "text": [
      "   21cc5:\te8 76 e4 0e 00       \tcallq  110140 <__write@@GLIBC_2.2.5>\n",
      "   303ab:\te8 90 fd 0d 00       \tcallq  110140 <__write@@GLIBC_2.2.5>\n",
      "   7c79a:\te8 41 3a 09 00       \tcallq  1101e0 <__write@@GLIBC_2.2.5+0xa0>\n",
      "   8b1b8:\te8 83 4f 08 00       \tcallq  110140 <__write@@GLIBC_2.2.5>\n",
      "   8b1e0:\te8 fb 4f 08 00       \tcallq  1101e0 <__write@@GLIBC_2.2.5+0xa0>\n",
      "  1154af:\te8 8c ac ff ff       \tcallq  110140 <__write@@GLIBC_2.2.5>\n",
      "  1175bd:\te8 1e 8c ff ff       \tcallq  1101e0 <__write@@GLIBC_2.2.5+0xa0>\n",
      "  121ae3:\te8 58 e6 fe ff       \tcallq  110140 <__write@@GLIBC_2.2.5>\n",
      "  123965:\te8 76 c8 fe ff       \tcallq  1101e0 <__write@@GLIBC_2.2.5+0xa0>\n",
      "  124059:\te8 82 c1 fe ff       \tcallq  1101e0 <__write@@GLIBC_2.2.5+0xa0>\n",
      "  13aae4:\te8 57 56 fd ff       \tcallq  110140 <__write@@GLIBC_2.2.5>\n",
      "  13aca3:\te8 98 54 fd ff       \tcallq  110140 <__write@@GLIBC_2.2.5>\n",
      "  13adc2:\te8 79 53 fd ff       \tcallq  110140 <__write@@GLIBC_2.2.5>\n",
      "  13b840:\te8 fb 48 fd ff       \tcallq  110140 <__write@@GLIBC_2.2.5>\n",
      "  13b982:\te8 b9 47 fd ff       \tcallq  110140 <__write@@GLIBC_2.2.5>\n",
      "  13ba04:\te8 37 47 fd ff       \tcallq  110140 <__write@@GLIBC_2.2.5>\n",
      "  14e7ec:\te8 4f 19 fc ff       \tcallq  110140 <__write@@GLIBC_2.2.5>\n",
      "  156365:\te8 d6 9d fb ff       \tcallq  110140 <__write@@GLIBC_2.2.5>\n",
      "  15aa25:\te8 16 57 fb ff       \tcallq  110140 <__write@@GLIBC_2.2.5>\n",
      "  163c6e:\te8 6d c5 fa ff       \tcallq  1101e0 <__write@@GLIBC_2.2.5+0xa0>\n",
      "  164884:\te8 57 b9 fa ff       \tcallq  1101e0 <__write@@GLIBC_2.2.5+0xa0>\n",
      "  164a51:\te8 8a b7 fa ff       \tcallq  1101e0 <__write@@GLIBC_2.2.5+0xa0>\n"
     ]
    }
   ],
   "source": [
    "objdump -D /lib/x86_64-linux-gnu/libc.so.6 | grep 'call.*__write@@'"
   ]
  },
  {
   "cell_type": "markdown",
   "metadata": {},
   "source": [
    "It turns out that none of the internal calls to `write` actually use the `write` symbol. They use `__write`, which is an alias:\n"
   ]
  },
  {
   "cell_type": "code",
   "execution_count": 22,
   "metadata": {},
   "outputs": [
    {
     "name": "stdout",
     "output_type": "stream",
     "text": [
      "0000000000110140 W write\n",
      "0000000000110140 W __write\n"
     ]
    }
   ],
   "source": [
    "__write_address=`nm -D /lib/x86_64-linux-gnu/libc.so.6 | awk '/__write/ {print $1}'`\n",
    "nm -D /lib/x86_64-linux-gnu/libc.so.6 | grep $__write_address"
   ]
  },
  {
   "cell_type": "markdown",
   "metadata": {},
   "source": [
    "Unfortunately, simply overriding `__write` doesn't work either:"
   ]
  },
  {
   "cell_type": "code",
   "execution_count": 19,
   "metadata": {},
   "outputs": [
    {
     "name": "stdout",
     "output_type": "stream",
     "text": [
      "#define _GNU_SOURCE\n",
      "\n",
      "#include <dlfcn.h>\n",
      "#include <unistd.h>\n",
      "\n",
      "ssize_t __write(int fd, const void *buf, size_t count) {\n",
      "    ssize_t (*orig_write)(int fd, const void *buf, size_t count) = \n",
      "        dlsym(RTLD_NEXT, \"__write\");\n",
      "    orig_write(fd, buf, count);\n",
      "    return orig_write(fd, buf, count);\n",
      "}\n"
     ]
    }
   ],
   "source": [
    "cat interpose_underbar_write.c"
   ]
  },
  {
   "cell_type": "code",
   "execution_count": 10,
   "metadata": {},
   "outputs": [
    {
     "name": "stdout",
     "output_type": "stream",
     "text": [
      "Hello fwrite\n"
     ]
    }
   ],
   "source": [
    "LD_PRELOAD=$PWD/interpose_underbar_write.so ./call_fwrite"
   ]
  },
  {
   "cell_type": "markdown",
   "metadata": {},
   "source": [
    "Note that in the `call` instructions above, the symbols don't have the `@plt` suffix. The real issue is that none of these calls are via the PLT. When glibc itself is built and linked, the linker can see the call sites and intended destinations at the same time, so it can and does link them at that time. The *dynamic* linker isn't involved, so `LD_PRELOAD` has no effect on these call sites.\n",
    "\n",
    "Looking at the dynamic linker's debug output again, we can see it never looks up `write` or `__write` at all; only `fwrite`:"
   ]
  },
  {
   "cell_type": "code",
   "execution_count": 38,
   "metadata": {},
   "outputs": [
    {
     "name": "stdout",
     "output_type": "stream",
     "text": [
      "     11317:\tbinding file ./call_fwrite [0] to /lib/x86_64-linux-gnu/libc.so.6 [0]: normal symbol `fwrite' [GLIBC_2.2.5]\n"
     ]
    }
   ],
   "source": [
    "LD_DEBUG=bindings LD_PRELOAD=$PWD/interpose_underbar_write.so ./call_fwrite 2>&1 | grep 'symbol.*write'"
   ]
  },
  {
   "cell_type": "markdown",
   "metadata": {},
   "source": [
    "## Can we interpose some other function?"
   ]
  },
  {
   "cell_type": "markdown",
   "metadata": {},
   "source": [
    "Using `strace`, we can get the call stack when the `write` system call is made. Maybe we can interpose one of these other functions?"
   ]
  },
  {
   "cell_type": "code",
   "execution_count": 9,
   "metadata": {
    "scrolled": false
   },
   "outputs": [
    {
     "name": "stdout",
     "output_type": "stream",
     "text": [
      "write(1, \"Hello fwrite\\n\", 13Hello fwrite\n",
      ")          = 13\n",
      " > /lib/x86_64-linux-gnu/libc-2.27.so(__write+0x14) [0x110154]\n",
      " > /lib/x86_64-linux-gnu/libc-2.27.so(_IO_file_write+0x2d) [0x8b1bd]\n",
      " > /lib/x86_64-linux-gnu/libc-2.27.so(_IO_do_write+0xb1) [0x8cf51]\n",
      " > /lib/x86_64-linux-gnu/libc-2.27.so(_IO_file_overflow+0x103) [0x8d403]\n",
      " > /lib/x86_64-linux-gnu/libc-2.27.so(_IO_default_xsputn+0x74) [0x8e494]\n",
      " > /lib/x86_64-linux-gnu/libc-2.27.so(_IO_file_xsputn+0x103) [0x8ba33]\n",
      " > /lib/x86_64-linux-gnu/libc-2.27.so(fwrite+0xd7) [0x7f977]\n",
      " > /home/jnewsome/projects/dev-journal/interposing-fwrite/interposing-fwrite/call_fwrite(main+0x5b) [0x5bb]\n",
      " > /lib/x86_64-linux-gnu/libc-2.27.so(__libc_start_main+0xe7) [0x21b97]\n",
      " > /home/jnewsome/projects/dev-journal/interposing-fwrite/interposing-fwrite/call_fwrite(_start+0x2a) [0x49a]\n",
      "+++ exited with 0 +++\n"
     ]
    }
   ],
   "source": [
    "strace -k -e write ./call_fwrite 2>&1"
   ]
  },
  {
   "cell_type": "markdown",
   "metadata": {},
   "source": [
    "Maybe one of these ends up getting called via the PLT. Let's see what function *are* called via the PLT inside the glibc library:"
   ]
  },
  {
   "cell_type": "code",
   "execution_count": 22,
   "metadata": {},
   "outputs": [
    {
     "name": "stdout",
     "output_type": "stream",
     "text": [
      "<*ABS*+0x9d790@plt>\n",
      "<*ABS*+0x9d7c0@plt>\n",
      "<*ABS*+0x9d800@plt>\n",
      "<*ABS*+0x9d840@plt>\n",
      "<*ABS*+0x9d870@plt>\n",
      "<*ABS*+0x9dc70@plt>\n",
      "<*ABS*+0x9dca0@plt>\n",
      "<*ABS*+0x9dd00@plt>\n",
      "<*ABS*+0x9dd40@plt>\n",
      "<*ABS*+0x9dd70@plt>\n",
      "<*ABS*+0x9dda0@plt>\n",
      "<*ABS*+0x9e050@plt>\n",
      "<*ABS*+0x9ebe0@plt>\n",
      "<*ABS*+0x9ec10@plt>\n",
      "<*ABS*+0x9ec70@plt>\n",
      "<*ABS*+0x9ed40@plt>\n",
      "<*ABS*+0x9ede0@plt>\n",
      "<*ABS*+0x9eef0@plt>\n",
      "<*ABS*+0x9ef20@plt>\n",
      "<*ABS*+0x9ef50@plt>\n",
      "<*ABS*+0x9efa0@plt>\n",
      "<*ABS*+0x9eff0@plt>\n",
      "<*ABS*+0x9f040@plt>\n",
      "<*ABS*+0x9f0e0@plt>\n",
      "<*ABS*+0xa07c0@plt>\n",
      "<*ABS*+0xa07f0@plt>\n",
      "<*ABS*+0xa86c0@plt>\n",
      "<*ABS*+0xbc0f0@plt>\n",
      "<*ABS*+0xbceb0@plt>\n",
      "<*ABS*+0xbd410@plt>\n",
      "<*ABS*+0xbd4c0@plt>\n",
      "<*ABS*+0xbe6c0@plt>\n",
      "<*ABS*+0xd2980@plt>\n",
      "<*ABS*+0xd2a60@plt>\n",
      "<calloc@plt>\n",
      "<_dl_exception_create@plt>\n",
      "<_dl_find_dso_for_object@plt>\n",
      "<free@plt>\n",
      "<malloc@plt>\n",
      "<memalign@plt>\n",
      "<realloc@plt>\n",
      "<__tls_get_addr@plt>\n",
      "<__tunable_get_val@plt>\n"
     ]
    }
   ],
   "source": [
    "objdump -D /lib/x86_64-linux-gnu/libc.so.6 | grep -o '<.*@plt>' | sort | uniq"
   ]
  },
  {
   "cell_type": "markdown",
   "metadata": {},
   "source": [
    "As it turns out, in a normal glibc build, only the memory allocation functions and some opaque implementation details are called via the PLT. Presumably the memory allocation functions are called via the PLT because they're explicitly meant to be overridable. I'm not sure what the other things are. Notably absent are any of the symbols in the `__write` call stack, above."
   ]
  },
  {
   "cell_type": "markdown",
   "metadata": {},
   "source": [
    "## So what *can* we do?"
   ]
  },
  {
   "cell_type": "markdown",
   "metadata": {},
   "source": [
    "There are a few way around this.\n",
    "\n",
    "* Interpose every entry point into glibc that could end up calling the functionality we want to modify. This could work, but developing and maintaining 100% coverage is difficult and fragile. We'd also end up having to reimplement parts of libc. e.g. if we write a wrapper for `fwrite`, and want to interpose on the individual `write` system calls, we'd have to reimplement the in-memory buffering that `fwrite` puts in between the two ourselves (or forgo it).\n",
    "* Patch glibc to make calls via the PLT, so that we can interpose them via `LD_PRELOAD`. We could then inject our custom glibc as another `LD_PRELOAD` library as done [here](../patching-libc-to-interpose-syscalls). This seems like a promising shortcut, but could result in subtle issues if our patched glibc isn't binary-compatible with the headers that the target code was compiled against; e.g. uses different data type or constant definitions. We should be able to prevent those difficulties by being very careful to build our libc consistently with our distribution's libc, but we'd need to do so for every platform we intend to run on.\n",
    "* Use a different interposition mechanism than `LD_PRELOAD`. In particular, `ptrace` tells the OS kernel to intercept the system calls themselves, ensuring that we see every system call regardless of what function it's coming from, whether the program is statically linked, or even if the `syscall` instructions themselves are inlined. This works best when the behavior we're trying to modify is at the syscall level. It's a bit more work to implement, though. It may also have different performance characteristics, especially if there are other syscalls we're *not* interested in intercepting. We also can't attach a debugger to a program that is already being `ptrace`'d, making debugging more difficult."
   ]
  }
 ],
 "metadata": {
  "kernelspec": {
   "display_name": "Bash",
   "language": "bash",
   "name": "bash"
  },
  "language_info": {
   "codemirror_mode": "shell",
   "file_extension": ".sh",
   "mimetype": "text/x-sh",
   "name": "bash"
  }
 },
 "nbformat": 4,
 "nbformat_minor": 4
}
