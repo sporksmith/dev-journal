{
 "cells": [
  {
   "cell_type": "code",
   "execution_count": 1,
   "metadata": {},
   "outputs": [],
   "source": [
    "compile () {\n",
    "  gcc -o $1 -xc -Wall -Werror - -lrt\n",
    "}"
   ]
  },
  {
   "cell_type": "markdown",
   "metadata": {},
   "source": [
    "## Leaking a local\n",
    "\n",
    "Valgrind detects a leaked local as definitely lost:"
   ]
  },
  {
   "cell_type": "code",
   "execution_count": null,
   "metadata": {},
   "outputs": [],
   "source": []
  },
  {
   "cell_type": "code",
   "execution_count": 3,
   "metadata": {},
   "outputs": [],
   "source": [
    "compile leak_local <<EOF\n",
    "#include<stdlib.h>\n",
    "int main(int argc, char **argv) {\n",
    "  int *i = malloc(sizeof(*i));\n",
    "  return 0;\n",
    "}\n",
    "EOF"
   ]
  },
  {
   "cell_type": "code",
   "execution_count": 5,
   "metadata": {},
   "outputs": [
    {
     "name": "stdout",
     "output_type": "stream",
     "text": [
      "==26083== Memcheck, a memory error detector\n",
      "==26083== Copyright (C) 2002-2017, and GNU GPL'd, by Julian Seward et al.\n",
      "==26083== Using Valgrind-3.13.0 and LibVEX; rerun with -h for copyright info\n",
      "==26083== Command: ./leak_local\n",
      "==26083== \n",
      "==26083== \n",
      "==26083== HEAP SUMMARY:\n",
      "==26083==     in use at exit: 4 bytes in 1 blocks\n",
      "==26083==   total heap usage: 1 allocs, 0 frees, 4 bytes allocated\n",
      "==26083== \n",
      "==26083== LEAK SUMMARY:\n",
      "==26083==    definitely lost: 4 bytes in 1 blocks\n",
      "==26083==    indirectly lost: 0 bytes in 0 blocks\n",
      "==26083==      possibly lost: 0 bytes in 0 blocks\n",
      "==26083==    still reachable: 0 bytes in 0 blocks\n",
      "==26083==         suppressed: 0 bytes in 0 blocks\n",
      "==26083== Rerun with --leak-check=full to see details of leaked memory\n",
      "==26083== \n",
      "==26083== For counts of detected and suppressed errors, rerun with: -v\n",
      "==26083== ERROR SUMMARY: 0 errors from 0 contexts (suppressed: 0 from 0)\n"
     ]
    }
   ],
   "source": [
    "valgrind ./leak_local"
   ]
  },
  {
   "cell_type": "markdown",
   "metadata": {},
   "source": [
    "## Leaking a global (not leaked)\n",
    "\n",
    "A \"leaked\" global is still reachable at program exit, since the global is always in scope. Valgrind correctly detects this as still-allocated, but not a leak:"
   ]
  },
  {
   "cell_type": "code",
   "execution_count": 7,
   "metadata": {},
   "outputs": [],
   "source": [
    "compile leak_global <<EOF\n",
    "\n",
    "#include<stdlib.h>\n",
    "\n",
    "static int *i;\n",
    "\n",
    "int main(int argc, char **argv) {\n",
    "  i = malloc(sizeof(*i));\n",
    "  return 0;\n",
    "}\n",
    "EOF"
   ]
  },
  {
   "cell_type": "code",
   "execution_count": 8,
   "metadata": {},
   "outputs": [
    {
     "name": "stdout",
     "output_type": "stream",
     "text": [
      "==26096== Memcheck, a memory error detector\n",
      "==26096== Copyright (C) 2002-2017, and GNU GPL'd, by Julian Seward et al.\n",
      "==26096== Using Valgrind-3.13.0 and LibVEX; rerun with -h for copyright info\n",
      "==26096== Command: ./leak_global\n",
      "==26096== \n",
      "==26096== \n",
      "==26096== HEAP SUMMARY:\n",
      "==26096==     in use at exit: 4 bytes in 1 blocks\n",
      "==26096==   total heap usage: 1 allocs, 0 frees, 4 bytes allocated\n",
      "==26096== \n",
      "==26096== LEAK SUMMARY:\n",
      "==26096==    definitely lost: 0 bytes in 0 blocks\n",
      "==26096==    indirectly lost: 0 bytes in 0 blocks\n",
      "==26096==      possibly lost: 0 bytes in 0 blocks\n",
      "==26096==    still reachable: 4 bytes in 1 blocks\n",
      "==26096==         suppressed: 0 bytes in 0 blocks\n",
      "==26096== Rerun with --leak-check=full to see details of leaked memory\n",
      "==26096== \n",
      "==26096== For counts of detected and suppressed errors, rerun with: -v\n",
      "==26096== ERROR SUMMARY: 0 errors from 0 contexts (suppressed: 0 from 0)\n"
     ]
    }
   ],
   "source": [
    "valgrind ./leak_global"
   ]
  }
 ],
 "metadata": {
  "kernelspec": {
   "display_name": "Bash",
   "language": "bash",
   "name": "bash"
  },
  "language_info": {
   "codemirror_mode": "shell",
   "file_extension": ".sh",
   "mimetype": "text/x-sh",
   "name": "bash"
  }
 },
 "nbformat": 4,
 "nbformat_minor": 4
}
