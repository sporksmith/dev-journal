{
 "cells": [
  {
   "cell_type": "markdown",
   "metadata": {},
   "source": [
    "# Poking around at POSIX message queues in Linux\n",
    "\n",
    "I was recently reviewing some code introduced usage of POSIX message queues into some tests. I hadn't used them before, and nothing in the code base already used them, so I needed to familiarize myself with them a bit.\n",
    "\n",
    "One annoyance of working with POSIX message queues on Linux is that there doesn't seem to be a ubiquitous command-line tool for manipulating them. Their predecessor, sys v message queues, have [`ipcmk`](https://linux.die.net/man/1/ipcmk), [`ipcrm`](https://linux.die.net/man/1/ipcrm), and [`ipcs`](https://linux.die.net/man/1/ipcs). [Apparently](https://unix.stackexchange.com/a/71045) HP-UX has an analagous tool `pipcs`, but it hasn't been ported to other platforms.\n",
    "\n",
    "This is somewhat mitigated by the ability to mount a virtual filesystem representing the message queues on the system, and manipulate them through normal file commands. You must be root to mount the system, but then any user can then use it. [`mq_overview(7)`](https://linux.die.net/man/7/mq_overview) has details, with an example of mounting to `/dev/mqueue`. On my system (Ubuntu 18.04), this system appears to be automatically mounted. It's unclear though whether or where you can count on it to already be mounted on other systems."
   ]
  },
  {
   "cell_type": "markdown",
   "metadata": {},
   "source": [
    "## Creating a queue\n",
    "\n",
    "We can create a queue using normal file system APIs. Let's use `mktemp` to generate a unique name for this example:"
   ]
  },
  {
   "cell_type": "code",
   "execution_count": 73,
   "metadata": {},
   "outputs": [
    {
     "name": "stdout",
     "output_type": "stream",
     "text": [
      "/dev/mqueue/mqtest.etiY\n"
     ]
    }
   ],
   "source": [
    "QFILE=`mktemp /dev/mqueue/mqtest.XXXX`\n",
    "echo $QFILE"
   ]
  },
  {
   "cell_type": "markdown",
   "metadata": {},
   "source": [
    "## Examining a queue"
   ]
  },
  {
   "cell_type": "markdown",
   "metadata": {},
   "source": [
    "We can `ls` it, though this doesn't tell us much:"
   ]
  },
  {
   "cell_type": "code",
   "execution_count": 74,
   "metadata": {},
   "outputs": [
    {
     "name": "stdout",
     "output_type": "stream",
     "text": [
      "-rw------- 1 jnewsome jnewsome 80 May 11 08:38 /dev/mqueue/mqtest.etiY\n"
     ]
    }
   ],
   "source": [
    "ls -l $QFILE"
   ]
  },
  {
   "cell_type": "markdown",
   "metadata": {},
   "source": [
    "We can `cat` it, giving some metadata about the state of the queue:"
   ]
  },
  {
   "cell_type": "code",
   "execution_count": 75,
   "metadata": {},
   "outputs": [
    {
     "name": "stdout",
     "output_type": "stream",
     "text": [
      "QSIZE:0          NOTIFY:0     SIGNO:0     NOTIFY_PID:0     \n"
     ]
    }
   ],
   "source": [
    "cat $QFILE"
   ]
  },
  {
   "cell_type": "markdown",
   "metadata": {},
   "source": [
    "To get more information, we'll need to use the C api."
   ]
  },
  {
   "cell_type": "markdown",
   "metadata": {},
   "source": [
    "The C APIs take a queue name, not the the file system path. The queue name is the basename of the path, with a leading `/`:"
   ]
  },
  {
   "cell_type": "code",
   "execution_count": 76,
   "metadata": {},
   "outputs": [
    {
     "name": "stdout",
     "output_type": "stream",
     "text": [
      "/mqtest.etiY\n"
     ]
    }
   ],
   "source": [
    "QNAME=\"/$(basename $QFILE)\"\n",
    "echo $QNAME"
   ]
  },
  {
   "cell_type": "markdown",
   "metadata": {},
   "source": [
    "Let's write a small shell function to compile our test programs. It'll take the program source from `stdin`:"
   ]
  },
  {
   "cell_type": "code",
   "execution_count": 77,
   "metadata": {},
   "outputs": [],
   "source": [
    "compile () {\n",
    "  gcc -o $1 -xc -Wall -Werror - -lrt\n",
    "}"
   ]
  },
  {
   "cell_type": "markdown",
   "metadata": {},
   "source": [
    "Our helper programs are going to have a common preamble. Let's stick those in a shell variable:"
   ]
  },
  {
   "cell_type": "code",
   "execution_count": 78,
   "metadata": {},
   "outputs": [
    {
     "ename": "",
     "evalue": "1",
     "output_type": "error",
     "traceback": []
    }
   ],
   "source": [
    "read -r -d '' C_PRELIMINARIES << EOM\n",
    "#include <fcntl.h>\n",
    "#include <sys/stat.h>\n",
    "#include <mqueue.h>\n",
    "#include <stdio.h>\n",
    "#include <stdlib.h>\n",
    "\n",
    "#define CHECK(x) { \\\n",
    "  if (!(x)) {\\\n",
    "    perror(#x);\\\n",
    "    exit(EXIT_FAILURE);\\\n",
    "  }\\\n",
    "}\n",
    "\n",
    "#define CHECK_GTE0(x) CHECK((x) >= 0)\n",
    "#define CHECK_EQ0(x) CHECK((x) == 0)\n",
    "\n",
    "EOM"
   ]
  },
  {
   "cell_type": "markdown",
   "metadata": {},
   "source": [
    "Now let's write and compile our `mq_getattr` program:"
   ]
  },
  {
   "cell_type": "code",
   "execution_count": 79,
   "metadata": {},
   "outputs": [],
   "source": [
    "compile mq_getattr <<EOF\n",
    "$C_PRELIMINARIES\n",
    "\n",
    "int main(int argc, char **argv) {\n",
    "  mqd_t q;\n",
    "  CHECK_GTE0(q = mq_open(argv[1], O_RDONLY));\n",
    "  struct mq_attr attr;\n",
    "  CHECK_EQ0(mq_getattr(q, &attr));\n",
    "  printf(\"flags: %ld\\n\", attr.mq_flags);\n",
    "  printf(\"maxmsg: %ld\\n\", attr.mq_maxmsg);\n",
    "  printf(\"msgsize: %ld\\n\", attr.mq_msgsize);\n",
    "  printf(\"curmsgs: %ld\\n\", attr.mq_curmsgs);\n",
    "}\n",
    "EOF"
   ]
  },
  {
   "cell_type": "markdown",
   "metadata": {},
   "source": [
    "Running it gives us some new information about the queue:"
   ]
  },
  {
   "cell_type": "code",
   "execution_count": 80,
   "metadata": {},
   "outputs": [
    {
     "name": "stdout",
     "output_type": "stream",
     "text": [
      "flags: 0\n",
      "maxmsg: 10\n",
      "msgsize: 8192\n",
      "curmsgs: 0\n"
     ]
    }
   ],
   "source": [
    "./mq_getattr $QNAME"
   ]
  },
  {
   "cell_type": "markdown",
   "metadata": {},
   "source": [
    "## Writing to the queue"
   ]
  },
  {
   "cell_type": "markdown",
   "metadata": {},
   "source": [
    "Unfortunately there doesn't seem to be a way to write messages to the queue via the file system API. At least, attempting to do so in the obvious way fails:"
   ]
  },
  {
   "cell_type": "code",
   "execution_count": 81,
   "metadata": {},
   "outputs": [
    {
     "name": "stdout",
     "output_type": "stream",
     "text": [
      "bash: echo: write error: Invalid argument\n"
     ]
    },
    {
     "ename": "",
     "evalue": "1",
     "output_type": "error",
     "traceback": []
    }
   ],
   "source": [
    "echo \"A message\" > $QFILE"
   ]
  },
  {
   "cell_type": "markdown",
   "metadata": {},
   "source": [
    "Let's write another small program that'll read up to the maximum message length from `stdin`, and then write it to the queue with a specified priority:"
   ]
  },
  {
   "cell_type": "code",
   "execution_count": 82,
   "metadata": {},
   "outputs": [],
   "source": [
    "compile mq_send <<EOF\n",
    "$C_PRELIMINARIES\n",
    "\n",
    "int main(int argc, char **argv) {\n",
    "  CHECK(argc == 3);\n",
    "  const char* qname = argv[1];\n",
    "  unsigned int priority = atoi(argv[2]);\n",
    "  \n",
    "  mqd_t q;\n",
    "  CHECK_GTE0(q = mq_open(qname, O_WRONLY));\n",
    "  struct mq_attr attr;\n",
    "  CHECK_EQ0(mq_getattr(q, &attr));\n",
    "  \n",
    "  char *buf = malloc(attr.mq_msgsize);\n",
    "  size_t n;\n",
    "  CHECK_GTE0(n = fread(buf, 1, attr.mq_msgsize, stdin));\n",
    "  CHECK_GTE0(mq_send(q, buf, n, priority));\n",
    "}\n",
    "EOF"
   ]
  },
  {
   "cell_type": "markdown",
   "metadata": {},
   "source": [
    "...and use it to write a message to the queue:"
   ]
  },
  {
   "cell_type": "code",
   "execution_count": 83,
   "metadata": {},
   "outputs": [],
   "source": [
    "./mq_send $QNAME 0 <<EOF\n",
    "Hello message queue\n",
    "Second line\n",
    "EOF"
   ]
  },
  {
   "cell_type": "markdown",
   "metadata": {},
   "source": [
    "Examining the queue, we can see that there's a message there:"
   ]
  },
  {
   "cell_type": "code",
   "execution_count": 84,
   "metadata": {},
   "outputs": [
    {
     "name": "stdout",
     "output_type": "stream",
     "text": [
      "QSIZE:32         NOTIFY:0     SIGNO:0     NOTIFY_PID:0     \n"
     ]
    }
   ],
   "source": [
    "cat $QFILE"
   ]
  },
  {
   "cell_type": "code",
   "execution_count": 85,
   "metadata": {},
   "outputs": [
    {
     "name": "stdout",
     "output_type": "stream",
     "text": [
      "flags: 0\n",
      "maxmsg: 10\n",
      "msgsize: 8192\n",
      "curmsgs: 1\n"
     ]
    }
   ],
   "source": [
    "./mq_getattr $QNAME"
   ]
  },
  {
   "cell_type": "markdown",
   "metadata": {},
   "source": [
    "## Reading from the queue"
   ]
  },
  {
   "cell_type": "markdown",
   "metadata": {},
   "source": [
    "Again, we'll need to write a program to read from the queue. This one will just cat the first message in the queue to `stdout`, blocking if there isn't a message there yet:"
   ]
  },
  {
   "cell_type": "code",
   "execution_count": 86,
   "metadata": {},
   "outputs": [],
   "source": [
    "compile mq_recv <<EOF\n",
    "$C_PRELIMINARIES\n",
    "\n",
    "int main(int argc, char **argv) {\n",
    "  mqd_t q;\n",
    "  CHECK_GTE0(q = mq_open(argv[1], O_RDONLY));\n",
    "  struct mq_attr attr;\n",
    "  CHECK_EQ0(mq_getattr(q, &attr));\n",
    "  \n",
    "  char *buf = malloc(attr.mq_msgsize);\n",
    "  ssize_t n;\n",
    "  CHECK_GTE0(n = mq_receive(q, buf, attr.mq_msgsize, NULL));\n",
    "  CHECK_GTE0(fwrite(buf, 1, n, stdout));\n",
    "}\n",
    "EOF"
   ]
  },
  {
   "cell_type": "markdown",
   "metadata": {},
   "source": [
    "As expected, we can read out the message we wrote to the queue above:"
   ]
  },
  {
   "cell_type": "code",
   "execution_count": 87,
   "metadata": {},
   "outputs": [
    {
     "name": "stdout",
     "output_type": "stream",
     "text": [
      "Hello message queue\n",
      "Second line\n"
     ]
    }
   ],
   "source": [
    "./mq_recv $QNAME"
   ]
  },
  {
   "cell_type": "markdown",
   "metadata": {},
   "source": [
    "...and doing so returns the queue to its empty state:"
   ]
  },
  {
   "cell_type": "code",
   "execution_count": 88,
   "metadata": {},
   "outputs": [
    {
     "name": "stdout",
     "output_type": "stream",
     "text": [
      "QSIZE:0          NOTIFY:0     SIGNO:0     NOTIFY_PID:0     \n"
     ]
    }
   ],
   "source": [
    "cat $QFILE"
   ]
  },
  {
   "cell_type": "code",
   "execution_count": 89,
   "metadata": {},
   "outputs": [
    {
     "name": "stdout",
     "output_type": "stream",
     "text": [
      "flags: 0\n",
      "maxmsg: 10\n",
      "msgsize: 8192\n",
      "curmsgs: 0\n"
     ]
    }
   ],
   "source": [
    "./mq_getattr $QNAME"
   ]
  },
  {
   "cell_type": "markdown",
   "metadata": {},
   "source": [
    "## Multiple messages"
   ]
  },
  {
   "cell_type": "markdown",
   "metadata": {},
   "source": [
    "We can write two messages to the queue and get them back individually:"
   ]
  },
  {
   "cell_type": "code",
   "execution_count": 90,
   "metadata": {},
   "outputs": [],
   "source": [
    "./mq_send $QNAME 0 <<EOF\n",
    "First message first line\n",
    "First message second line\n",
    "EOF\n",
    "./mq_send $QNAME 0 <<EOF\n",
    "Second message first line\n",
    "Second message second line\n",
    "EOF"
   ]
  },
  {
   "cell_type": "code",
   "execution_count": 91,
   "metadata": {},
   "outputs": [
    {
     "name": "stdout",
     "output_type": "stream",
     "text": [
      "First message first line\n",
      "First message second line\n"
     ]
    }
   ],
   "source": [
    "./mq_recv $QNAME"
   ]
  },
  {
   "cell_type": "code",
   "execution_count": 92,
   "metadata": {},
   "outputs": [
    {
     "name": "stdout",
     "output_type": "stream",
     "text": [
      "Second message first line\n",
      "Second message second line\n"
     ]
    }
   ],
   "source": [
    "./mq_recv $QNAME"
   ]
  },
  {
   "cell_type": "markdown",
   "metadata": {},
   "source": [
    "We can use priorities to get them back in a different order. We didn't talk about priorities earlier, but that's the integer passed on the command-line after the queue name. When reading from a queue, the earliest message with the highest priority is returned:"
   ]
  },
  {
   "cell_type": "code",
   "execution_count": 93,
   "metadata": {},
   "outputs": [
    {
     "name": "stdout",
     "output_type": "stream",
     "text": [
      "Third message, priority 1\n",
      "Fourth message, priority 1\n",
      "First message, priority 0\n",
      "Second message, priority 0\n"
     ]
    }
   ],
   "source": [
    "echo \"First message, priority 0\" | ./mq_send $QNAME 0\n",
    "echo \"Second message, priority 0\" | ./mq_send $QNAME 0\n",
    "echo \"Third message, priority 1\" | ./mq_send $QNAME 1\n",
    "echo \"Fourth message, priority 1\" | ./mq_send $QNAME 1\n",
    "./mq_recv $QNAME\n",
    "./mq_recv $QNAME\n",
    "./mq_recv $QNAME\n",
    "./mq_recv $QNAME"
   ]
  },
  {
   "cell_type": "markdown",
   "metadata": {},
   "source": [
    "## Resource usage and cleanup\n",
    "\n",
    "There are system-wide and per-user limits on message queues, and these are surprisingly small by default. Let's go ahead and clean up our queue from above:"
   ]
  },
  {
   "cell_type": "code",
   "execution_count": 94,
   "metadata": {},
   "outputs": [],
   "source": [
    "rm $QFILE"
   ]
  },
  {
   "cell_type": "markdown",
   "metadata": {},
   "source": [
    "While writing this I inadvertently bumped into the per-user limit when I was unable to create a 10th queue:"
   ]
  },
  {
   "cell_type": "code",
   "execution_count": 95,
   "metadata": {},
   "outputs": [
    {
     "name": "stdout",
     "output_type": "stream",
     "text": [
      "/dev/mqueue/exhaust2D6\n",
      "/dev/mqueue/exhaustKWE\n",
      "/dev/mqueue/exhaustMcb\n",
      "/dev/mqueue/exhaustNeb\n",
      "/dev/mqueue/exhaustLSz\n",
      "/dev/mqueue/exhaustu02\n",
      "/dev/mqueue/exhaustGLx\n",
      "/dev/mqueue/exhaustztA\n",
      "/dev/mqueue/exhaustb9l\n",
      "mktemp: failed to create file via template ‘/dev/mqueue/exhaustXXX’: Too many open files\n"
     ]
    },
    {
     "ename": "",
     "evalue": "1",
     "output_type": "error",
     "traceback": []
    }
   ],
   "source": [
    "for i in {1..10}; do mktemp /dev/mqueue/exhaustXXX; done"
   ]
  },
  {
   "cell_type": "code",
   "execution_count": 96,
   "metadata": {},
   "outputs": [
    {
     "name": "stdout",
     "output_type": "stream",
     "text": [
      "9\n"
     ]
    }
   ],
   "source": [
    "ls /dev/mqueue | wc -l"
   ]
  },
  {
   "cell_type": "markdown",
   "metadata": {},
   "source": [
    "I believe the limit we're hitting is the per-user limit on message queues in bytes:"
   ]
  },
  {
   "cell_type": "code",
   "execution_count": 97,
   "metadata": {},
   "outputs": [
    {
     "name": "stdout",
     "output_type": "stream",
     "text": [
      "POSIX message queues     (bytes, -q) 819200\n"
     ]
    }
   ],
   "source": [
    "ulimit -a | grep POSIX"
   ]
  },
  {
   "cell_type": "markdown",
   "metadata": {},
   "source": [
    "As we saw from the `mq_getattr` output above, each queue has `msgsize` of `8192`, and `maxmsg` of `10`. Therefore `10` queues would equal the `819200` limit. Apparently the limit is applied to the *potential* size of the queue. This is probably preferable over being able to create more queues and then hitting the resource limit when trying to write to them.\n",
    "\n",
    "It does seem likely that these parametes were chosen with the intent of allowing `10` queues per user, but that either the limit is being applied with `<` rather than `<=`, or that there's some other per-queue overhead is also being counted.\n",
    "\n",
    "In any case, let's clean up."
   ]
  },
  {
   "cell_type": "code",
   "execution_count": 98,
   "metadata": {},
   "outputs": [],
   "source": [
    "rm /dev/mqueue/exhaust*"
   ]
  }
 ],
 "metadata": {
  "kernelspec": {
   "display_name": "Bash",
   "language": "bash",
   "name": "bash"
  },
  "language_info": {
   "codemirror_mode": "shell",
   "file_extension": ".sh",
   "mimetype": "text/x-sh",
   "name": "bash"
  }
 },
 "nbformat": 4,
 "nbformat_minor": 4
}
