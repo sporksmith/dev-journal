{
 "cells": [
  {
   "cell_type": "code",
   "execution_count": 1,
   "metadata": {},
   "outputs": [],
   "source": [
    "QFILE=`mktemp /dev/mqueue/mqtest.XXXX`"
   ]
  },
  {
   "cell_type": "code",
   "execution_count": 2,
   "metadata": {},
   "outputs": [
    {
     "name": "stdout",
     "output_type": "stream",
     "text": [
      "/dev/mqueue/mqtest.nPyf\n"
     ]
    }
   ],
   "source": [
    "echo $QFILE"
   ]
  },
  {
   "cell_type": "code",
   "execution_count": 3,
   "metadata": {},
   "outputs": [
    {
     "name": "stdout",
     "output_type": "stream",
     "text": [
      "-rw------- 1 jnewsome jnewsome 80 May  9 17:38 /dev/mqueue/mqtest.nPyf\n"
     ]
    }
   ],
   "source": [
    "ls -l $QFILE"
   ]
  },
  {
   "cell_type": "code",
   "execution_count": 4,
   "metadata": {},
   "outputs": [
    {
     "name": "stdout",
     "output_type": "stream",
     "text": [
      "QSIZE:0          NOTIFY:0     SIGNO:0     NOTIFY_PID:0     \n"
     ]
    }
   ],
   "source": [
    "cat $QFILE"
   ]
  },
  {
   "cell_type": "code",
   "execution_count": 5,
   "metadata": {},
   "outputs": [
    {
     "name": "stdout",
     "output_type": "stream",
     "text": [
      "/mqtest.nPyf\n"
     ]
    }
   ],
   "source": [
    "QNAME=\"/$(basename $QFILE)\"\n",
    "echo $QNAME"
   ]
  },
  {
   "cell_type": "code",
   "execution_count": 6,
   "metadata": {},
   "outputs": [],
   "source": [
    "read -r -d '' C_PRELIMINARIES << EOM\n",
    "#include <fcntl.h>\n",
    "#include <sys/stat.h>\n",
    "#include <mqueue.h>\n",
    "#include <stdio.h>\n",
    "#include <stdlib.h>\n",
    "\n",
    "#define CHECK_GTE0(x) { \\\n",
    "  if ((x) < 0) {\\\n",
    "    perror(#x);\\\n",
    "    exit(EXIT_FAILURE);\\\n",
    "  }\\\n",
    "}\n",
    "\n",
    "#define CHECK_EQ0(x) { \\\n",
    "  if ((x) != 0) {\\\n",
    "    perror(#x);\\\n",
    "    exit(EXIT_FAILURE);\\\n",
    "  }\\\n",
    "}\n",
    "EOM\n",
    "\n",
    "gcc -o mq_getattr -xc - -lrt <<EOF\n",
    "$C_PRELIMINARIES\n",
    "\n",
    "int main(int argc, char **argv) {\n",
    "  mqd_t q;\n",
    "  CHECK_GTE0(q = mq_open(argv[1], O_WRONLY));\n",
    "  struct mq_attr attr;\n",
    "  CHECK_EQ0(mq_getattr(q, &attr));\n",
    "  printf(\"flags: %ld\\n\", attr.mq_flags);\n",
    "  printf(\"maxmsg: %ld\\n\", attr.mq_maxmsg);\n",
    "  printf(\"msgsize: %ld\\n\", attr.mq_msgsize);\n",
    "  printf(\"curmsgs: %ld\\n\", attr.mq_curmsgs);\n",
    "}\n",
    "EOF"
   ]
  },
  {
   "cell_type": "code",
   "execution_count": 7,
   "metadata": {},
   "outputs": [
    {
     "name": "stdout",
     "output_type": "stream",
     "text": [
      "flags: 0\n",
      "maxmsg: 10\n",
      "msgsize: 8192\n",
      "curmsgs: 0\n"
     ]
    }
   ],
   "source": [
    "./mq_getattr $QNAME"
   ]
  },
  {
   "cell_type": "code",
   "execution_count": 8,
   "metadata": {},
   "outputs": [],
   "source": [
    "gcc -o mq_send -xc - -lrt <<EOF\n",
    "$C_PRELIMINARIES\n",
    "\n",
    "int main(int argc, char **argv) {\n",
    "  mqd_t q;\n",
    "  CHECK_GTE0(q = mq_open(argv[1], O_WRONLY));\n",
    "  struct mq_attr attr;\n",
    "  CHECK_EQ0(mq_getattr(q, &attr));\n",
    "  \n",
    "  char *buf = malloc(attr.mq_msgsize);\n",
    "  size_t n;\n",
    "  CHECK_GTE0(n = fread(buf, 1, attr.mq_msgsize, stdin));\n",
    "  CHECK_GTE0(mq_send(q, buf, n, 0));\n",
    "}\n",
    "EOF"
   ]
  },
  {
   "cell_type": "code",
   "execution_count": 9,
   "metadata": {},
   "outputs": [],
   "source": [
    "./mq_send $QNAME <<EOF\n",
    "Hello message queue\n",
    "Secondline\n",
    "EOF"
   ]
  },
  {
   "cell_type": "code",
   "execution_count": 10,
   "metadata": {},
   "outputs": [
    {
     "name": "stdout",
     "output_type": "stream",
     "text": [
      "QSIZE:31         NOTIFY:0     SIGNO:0     NOTIFY_PID:0     \n"
     ]
    }
   ],
   "source": [
    "cat $QFILE"
   ]
  },
  {
   "cell_type": "code",
   "execution_count": 11,
   "metadata": {},
   "outputs": [
    {
     "name": "stdout",
     "output_type": "stream",
     "text": [
      "flags: 0\n",
      "maxmsg: 10\n",
      "msgsize: 8192\n",
      "curmsgs: 1\n"
     ]
    }
   ],
   "source": [
    "./mq_getattr $QNAME"
   ]
  },
  {
   "cell_type": "code",
   "execution_count": 12,
   "metadata": {},
   "outputs": [],
   "source": [
    "gcc -o mq_recv -xc - -lrt <<EOF\n",
    "$C_PRELIMINARIES\n",
    "\n",
    "int main(int argc, char **argv) {\n",
    "  mqd_t q;\n",
    "  CHECK_GTE0(q = mq_open(argv[1], O_RDONLY));\n",
    "  struct mq_attr attr;\n",
    "  CHECK_EQ0(mq_getattr(q, &attr));\n",
    "  \n",
    "  char *buf = malloc(attr.mq_msgsize);\n",
    "  ssize_t n;\n",
    "  int priority;\n",
    "  CHECK_GTE0(n = mq_receive(q, buf, attr.mq_msgsize, &priority));\n",
    "  CHECK_GTE0(fwrite(buf, 1, n, stdout));\n",
    "}\n",
    "EOF"
   ]
  },
  {
   "cell_type": "code",
   "execution_count": 13,
   "metadata": {},
   "outputs": [
    {
     "name": "stdout",
     "output_type": "stream",
     "text": [
      "Hello message queue\n",
      "Secondline\n"
     ]
    }
   ],
   "source": [
    "./mq_recv $QNAME"
   ]
  }
 ],
 "metadata": {
  "kernelspec": {
   "display_name": "Bash",
   "language": "bash",
   "name": "bash"
  },
  "language_info": {
   "codemirror_mode": "shell",
   "file_extension": ".sh",
   "mimetype": "text/x-sh",
   "name": "bash"
  }
 },
 "nbformat": 4,
 "nbformat_minor": 4
}
