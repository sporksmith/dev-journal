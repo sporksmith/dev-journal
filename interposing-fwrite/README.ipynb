{
 "cells": [
  {
   "cell_type": "markdown",
   "metadata": {},
   "source": [
    "# Interposing internal libc calls\n",
    "\n",
    "## TLDR\n",
    "\n",
    "Calls within libc are generally pre-linked. As a result, they can't be interposed using `LD_PRELOAD`. This makes it tricky to use `LD_PRELOAD` to intercept, e.g., all calls to `write`. One workaround is to [patch libc](https://github.com/sporksmith/interpose-demo)."
   ]
  },
  {
   "cell_type": "markdown",
   "metadata": {},
   "source": [
    "## An example program\n",
    "\n",
    "For demo purposes we'll use a program that makes a single call to `fwrite`:"
   ]
  },
  {
   "cell_type": "code",
   "execution_count": 6,
   "metadata": {
    "scrolled": true
   },
   "outputs": [
    {
     "name": "stdout",
     "output_type": "stream",
     "text": [
      "#include <stdio.h>\n",
      "#include <string.h>\n",
      "\n",
      "int main(int argc, char **argv) {\n",
      "    const char *msg = \"Hello fwrite\\n\";\n",
      "    fwrite(msg, 1, strlen(msg), stdout);\n",
      "    return 0;\n",
      "}\n"
     ]
    }
   ],
   "source": [
    "cat ./fwrite.c"
   ]
  },
  {
   "cell_type": "markdown",
   "metadata": {},
   "source": [
    "### Interposing fwrite itself works\n",
    "\n",
    "Let's look at what happens when interposition works as expected. We'll interpose on `fwrite` itself, to make each such call twice."
   ]
  },
  {
   "cell_type": "code",
   "execution_count": 7,
   "metadata": {},
   "outputs": [
    {
     "name": "stdout",
     "output_type": "stream",
     "text": [
      "#define _GNU_SOURCE\n",
      "\n",
      "#include <stdio.h>\n",
      "#include <dlfcn.h>\n",
      "\n",
      "size_t fwrite(const void* ptr, size_t size, size_t nmemb, FILE* stream) {\n",
      "    size_t (*orig_fwrite)(const void* ptr, size_t size, size_t nmemb,\n",
      "                          FILE* stream) = dlsym(RTLD_NEXT, \"fwrite\");\n",
      "    orig_fwrite(ptr, size, nmemb, stream);\n",
      "    return orig_fwrite(ptr, size, nmemb, stream);\n",
      "}\n"
     ]
    }
   ],
   "source": [
    "cat interpose_fwrite.c"
   ]
  },
  {
   "cell_type": "code",
   "execution_count": 8,
   "metadata": {},
   "outputs": [
    {
     "name": "stdout",
     "output_type": "stream",
     "text": [
      "Hello fwrite\n",
      "Hello fwrite\n"
     ]
    }
   ],
   "source": [
    "LD_PRELOAD=$PWD/interpose_fwrite.so ./fwrite"
   ]
  },
  {
   "cell_type": "markdown",
   "metadata": {},
   "source": [
    "This works because the call to fwrite happens via the PLT:"
   ]
  },
  {
   "cell_type": "code",
   "execution_count": 9,
   "metadata": {},
   "outputs": [
    {
     "name": "stdout",
     "output_type": "stream",
     "text": [
      "  4005b6:\te8 a5 fe ff ff       \t\u001b[01;31m\u001b[Kcallq  400460 <fwrite\u001b[m\u001b[K@plt>\n"
     ]
    }
   ],
   "source": [
    "objdump -D fwrite | grep 'call.*fwrite'"
   ]
  },
  {
   "cell_type": "markdown",
   "metadata": {},
   "source": [
    "We can also turn on the dynamic linker's debug output to see this binding happen. Without `LD_PRELOAD`, `fwrite` gets bound to libc's symbol:"
   ]
  },
  {
   "cell_type": "code",
   "execution_count": 23,
   "metadata": {},
   "outputs": [
    {
     "name": "stdout",
     "output_type": "stream",
     "text": [
      "      6536:\tbinding file ./fwrite [0] to /lib/x86_64-linux-gnu/libc.so.6 [0]: normal \u001b[01;31m\u001b[Ksymbol `fwrite\u001b[m\u001b[K' [GLIBC_2.2.5]\n"
     ]
    }
   ],
   "source": [
    "LD_DEBUG=bindings ./fwrite 2>&1 | grep 'symbol.*fwrite'"
   ]
  },
  {
   "cell_type": "markdown",
   "metadata": {},
   "source": [
    "With `LD_PRELOAD`, it gets bound to our preloaded library instead:"
   ]
  },
  {
   "cell_type": "code",
   "execution_count": 11,
   "metadata": {},
   "outputs": [
    {
     "name": "stdout",
     "output_type": "stream",
     "text": [
      "      6510:\tbinding file ./fwrite [0] to /home/jnewsome/projects/dev-journal/interposing-fwrite/interposing-fwrite/interpose_fwrite.so [0]: normal \u001b[01;31m\u001b[Ksymbol `fwrite\u001b[m\u001b[K' [GLIBC_2.2.5]\n",
      "      6510:\tbinding file /home/jnewsome/projects/dev-journal/interposing-fwrite/interposing-fwrite/interpose_fwrite.so [0] to /lib/x86_64-linux-gnu/libc.so.6 [0]: normal \u001b[01;31m\u001b[Ksymbol `fwrite\u001b[m\u001b[K'\n"
     ]
    }
   ],
   "source": [
    "LD_DEBUG=bindings LD_PRELOAD=$PWD/interpose_fwrite.so ./fwrite 2>&1 | grep 'symbol.*fwrite'"
   ]
  },
  {
   "cell_type": "markdown",
   "metadata": {},
   "source": [
    "## Interposing write alone doesn't work\n",
    "\n",
    "So far so good. But if we want to apply our doubling to *all* writes, there are a bunch of other output functions we'll need to intercept. e.g. `printf`, `fprintf`, `puts`, ... Can we do so without writing wrappers for all of these and duplicating our custom logic in all of them?\n",
    "\n",
    "Ultimately these all end up making a `write` system call. Maybe we can just interpose the `write` function and put our logic there?"
   ]
  },
  {
   "cell_type": "code",
   "execution_count": 12,
   "metadata": {},
   "outputs": [
    {
     "name": "stdout",
     "output_type": "stream",
     "text": [
      "#define _GNU_SOURCE\n",
      "\n",
      "#include <dlfcn.h>\n",
      "#include <unistd.h>\n",
      "\n",
      "ssize_t write(int fd, const void *buf, size_t count) {\n",
      "    ssize_t (*orig_write)(int fd, const void *buf, size_t count) = \n",
      "        dlsym(RTLD_NEXT, \"write\");\n",
      "    orig_write(fd, buf, count);\n",
      "    return orig_write(fd, buf, count);\n",
      "}\n"
     ]
    }
   ],
   "source": [
    "cat interpose_write.c"
   ]
  },
  {
   "cell_type": "code",
   "execution_count": 13,
   "metadata": {},
   "outputs": [
    {
     "name": "stdout",
     "output_type": "stream",
     "text": [
      "Hello fwrite\n"
     ]
    }
   ],
   "source": [
    "LD_PRELOAD=$PWD/interpose_write.so ./fwrite"
   ]
  },
  {
   "cell_type": "markdown",
   "metadata": {},
   "source": [
    "It didn't work. To find out why, let's look at calls to write from within libc:"
   ]
  },
  {
   "cell_type": "code",
   "execution_count": 14,
   "metadata": {},
   "outputs": [
    {
     "name": "stdout",
     "output_type": "stream",
     "text": [
      "   7bcda:\te8 c1 3b 00 00       \t\u001b[01;31m\u001b[Kcallq  7f8a0 <_IO_fwrite\u001b[m\u001b[K@@GLIBC_2.2.5>\n",
      "   7cbc4:\te8 d7 2c 00 00       \t\u001b[01;31m\u001b[Kcallq  7f8a0 <_IO_fwrite\u001b[m\u001b[K@@GLIBC_2.2.5>\n",
      "   7cbe4:\te8 b7 2c 00 00       \t\u001b[01;31m\u001b[Kcallq  7f8a0 <_IO_fwrite\u001b[m\u001b[K@@GLIBC_2.2.5>\n",
      "   9aae6:\te8 b5 4d fe ff       \t\u001b[01;31m\u001b[Kcallq  7f8a0 <_IO_fwrite\u001b[m\u001b[K@@GLIBC_2.2.5>\n",
      "   9c9bd:\te8 de 2e fe ff       \t\u001b[01;31m\u001b[Kcallq  7f8a0 <_IO_fwrite\u001b[m\u001b[K@@GLIBC_2.2.5>\n",
      "   9cb20:\te8 7b 2d fe ff       \t\u001b[01;31m\u001b[Kcallq  7f8a0 <_IO_fwrite\u001b[m\u001b[K@@GLIBC_2.2.5>\n",
      "  11e33d:\te8 7e c1 f6 ff       \t\u001b[01;31m\u001b[Kcallq  8a4c0 <fwrite\u001b[m\u001b[K_unlocked@@GLIBC_2.2.5>\n",
      "  11e4bd:\te8 fe bf f6 ff       \t\u001b[01;31m\u001b[Kcallq  8a4c0 <fwrite\u001b[m\u001b[K_unlocked@@GLIBC_2.2.5>\n",
      "  15e1af:\te8 ec 16 f2 ff       \t\u001b[01;31m\u001b[Kcallq  7f8a0 <_IO_fwrite\u001b[m\u001b[K@@GLIBC_2.2.5>\n",
      "  15e210:\te8 8b 16 f2 ff       \t\u001b[01;31m\u001b[Kcallq  7f8a0 <_IO_fwrite\u001b[m\u001b[K@@GLIBC_2.2.5>\n",
      "  15e396:\te8 05 15 f2 ff       \t\u001b[01;31m\u001b[Kcallq  7f8a0 <_IO_fwrite\u001b[m\u001b[K@@GLIBC_2.2.5>\n"
     ]
    }
   ],
   "source": [
    "objdump -D /lib/x86_64-linux-gnu/libc.so.6 | grep 'call.*fwrite'"
   ]
  },
  {
   "cell_type": "markdown",
   "metadata": {},
   "source": [
    "Note that unlike our program's call to `fwrite`, these don't have the `@plt` suffix. This is because glibc's build process effectively pre-links these calls.\n",
    "\n",
    "The dynamic linker isn't involved in resolving these calls at all:"
   ]
  },
  {
   "cell_type": "code",
   "execution_count": 15,
   "metadata": {},
   "outputs": [],
   "source": [
    "LD_DEBUG=bindings LD_PRELOAD=$PWD/interpose_write.so ./fwrite 2>&1 | grep 'symbol.*[^f]write' || true"
   ]
  },
  {
   "cell_type": "markdown",
   "metadata": {},
   "source": [
    "## Could we be interposing the wrong function?"
   ]
  },
  {
   "cell_type": "markdown",
   "metadata": {},
   "source": [
    "As it turns out, that may not be the *only* issue. It turns out that the `write` symbol itself involved at all in this case. We can use `strace` to get the call stack where the `write` system call gets made in our program:"
   ]
  },
  {
   "cell_type": "code",
   "execution_count": 16,
   "metadata": {
    "scrolled": false
   },
   "outputs": [
    {
     "name": "stdout",
     "output_type": "stream",
     "text": [
      "write(1, \"Hello fwrite\\n\", 13Hello fwrite\n",
      ")          = 13\n",
      " > /lib/x86_64-linux-gnu/libc-2.27.so(__write+0x14) [0x110154]\n",
      " > /lib/x86_64-linux-gnu/libc-2.27.so(_IO_file_write+0x2d) [0x8b1bd]\n",
      " > /lib/x86_64-linux-gnu/libc-2.27.so(_IO_do_write+0xb1) [0x8cf51]\n",
      " > /lib/x86_64-linux-gnu/libc-2.27.so(_IO_file_overflow+0x103) [0x8d403]\n",
      " > /lib/x86_64-linux-gnu/libc-2.27.so(_IO_default_xsputn+0x74) [0x8e494]\n",
      " > /lib/x86_64-linux-gnu/libc-2.27.so(_IO_file_xsputn+0x103) [0x8ba33]\n",
      " > /lib/x86_64-linux-gnu/libc-2.27.so(fwrite+0xd7) [0x7f977]\n",
      " > /home/jnewsome/projects/dev-journal/interposing-fwrite/interposing-fwrite/fwrite(main+0x5b) [0x5bb]\n",
      " > /lib/x86_64-linux-gnu/libc-2.27.so(__libc_start_main+0xe7) [0x21b97]\n",
      " > /home/jnewsome/projects/dev-journal/interposing-fwrite/interposing-fwrite/fwrite(_start+0x2a) [0x49a]\n",
      "+++ exited with 0 +++\n"
     ]
    }
   ],
   "source": [
    "strace -k -e write ./fwrite 2>&1"
   ]
  },
  {
   "cell_type": "markdown",
   "metadata": {},
   "source": [
    "### We actually want `__write`, but it doesn't matter"
   ]
  },
  {
   "cell_type": "markdown",
   "metadata": {},
   "source": [
    "`strace` resolves the symbol to `__write`. As it turns out this is an alias to the `write` symbol. (And the only such alias):"
   ]
  },
  {
   "cell_type": "code",
   "execution_count": 17,
   "metadata": {},
   "outputs": [
    {
     "name": "stdout",
     "output_type": "stream",
     "text": [
      "\u001b[01;31m\u001b[K0000000000110140\u001b[m\u001b[K W write\n",
      "\u001b[01;31m\u001b[K0000000000110140\u001b[m\u001b[K W __write\n"
     ]
    }
   ],
   "source": [
    "__write_address=`nm -D /lib/x86_64-linux-gnu/libc.so.6 | awk '/__write/ {print $1}'`\n",
    "nm -D /lib/x86_64-linux-gnu/libc.so.6 | grep $__write_address"
   ]
  },
  {
   "cell_type": "markdown",
   "metadata": {},
   "source": [
    "It's not clear `strace` actually knows what symbol is being used at the call site; it might just be doing a reverse lookup of the address on the stack and happening to pick `__write` between the two aliases.\n",
    "\n",
    "Looking at the objdump of `_IO_file_write`, it turns out that it does indeed use the `__write` symbol, but again it doesn't happen via the PLT:"
   ]
  },
  {
   "cell_type": "code",
   "execution_count": 18,
   "metadata": {},
   "outputs": [
    {
     "name": "stdout",
     "output_type": "stream",
     "text": [
      "   8b1b8:\te8 83 4f 08 00       \tcallq  110140 <__write@@GLIBC_2.2.5>\n"
     ]
    }
   ],
   "source": [
    "objdump -D /lib/x86_64-linux-gnu/libc.so.6 | awk '/^\\S+ <_IO_file_write/ { found=1 }; /call.*write/ { if (found==1) { print $0; exit 0; } }'"
   ]
  },
  {
   "cell_type": "markdown",
   "metadata": {},
   "source": [
    "Just to be sure, let's try interposing `__write`:"
   ]
  },
  {
   "cell_type": "code",
   "execution_count": 19,
   "metadata": {},
   "outputs": [
    {
     "name": "stdout",
     "output_type": "stream",
     "text": [
      "#define _GNU_SOURCE\n",
      "\n",
      "#include <dlfcn.h>\n",
      "#include <unistd.h>\n",
      "\n",
      "ssize_t __write(int fd, const void *buf, size_t count) {\n",
      "    ssize_t (*orig_write)(int fd, const void *buf, size_t count) = \n",
      "        dlsym(RTLD_NEXT, \"__write\");\n",
      "    orig_write(fd, buf, count);\n",
      "    return orig_write(fd, buf, count);\n",
      "}\n"
     ]
    }
   ],
   "source": [
    "cat interpose_underbar_write.c"
   ]
  },
  {
   "cell_type": "code",
   "execution_count": 20,
   "metadata": {},
   "outputs": [
    {
     "name": "stdout",
     "output_type": "stream",
     "text": [
      "Hello fwrite\n"
     ]
    }
   ],
   "source": [
    "LD_PRELOAD=$PWD/interpose_underbar_write.so ./fwrite"
   ]
  },
  {
   "cell_type": "code",
   "execution_count": 21,
   "metadata": {},
   "outputs": [
    {
     "name": "stdout",
     "output_type": "stream",
     "text": [
      "      6530:\tbinding file ./fwrite [0] to /lib/x86_64-linux-gnu/libc.so.6 [0]: normal \u001b[01;31m\u001b[Ksymbol `fwrite\u001b[m\u001b[K' [GLIBC_2.2.5]\n"
     ]
    }
   ],
   "source": [
    "LD_DEBUG=bindings LD_PRELOAD=$PWD/interpose_underbar_write.so ./fwrite 2>&1 | grep 'symbol.*write'"
   ]
  },
  {
   "cell_type": "markdown",
   "metadata": {},
   "source": [
    "As expected: there's no observable effect, and the dynamic loader never touches the `__write` symbol at all."
   ]
  },
  {
   "cell_type": "markdown",
   "metadata": {},
   "source": [
    "### glibc only calls a few functions via the PLT"
   ]
  },
  {
   "cell_type": "markdown",
   "metadata": {},
   "source": [
    "Maybe we could interpose one of those other helpers in the stack instead? Are any of those called via the PLT?\n",
    "\n",
    "As it turns out, in a normal glibc build, only the memory allocation functions and some opaque implementation details are called via the PLT. Presumably the memory allocation functions are called via the PLT because they're explicitly meant to be overridable. I'm not sure what the other things are."
   ]
  },
  {
   "cell_type": "code",
   "execution_count": 22,
   "metadata": {},
   "outputs": [
    {
     "name": "stdout",
     "output_type": "stream",
     "text": [
      "<*ABS*+0x9d790@plt>\n",
      "<*ABS*+0x9d7c0@plt>\n",
      "<*ABS*+0x9d800@plt>\n",
      "<*ABS*+0x9d840@plt>\n",
      "<*ABS*+0x9d870@plt>\n",
      "<*ABS*+0x9dc70@plt>\n",
      "<*ABS*+0x9dca0@plt>\n",
      "<*ABS*+0x9dd00@plt>\n",
      "<*ABS*+0x9dd40@plt>\n",
      "<*ABS*+0x9dd70@plt>\n",
      "<*ABS*+0x9dda0@plt>\n",
      "<*ABS*+0x9e050@plt>\n",
      "<*ABS*+0x9ebe0@plt>\n",
      "<*ABS*+0x9ec10@plt>\n",
      "<*ABS*+0x9ec70@plt>\n",
      "<*ABS*+0x9ed40@plt>\n",
      "<*ABS*+0x9ede0@plt>\n",
      "<*ABS*+0x9eef0@plt>\n",
      "<*ABS*+0x9ef20@plt>\n",
      "<*ABS*+0x9ef50@plt>\n",
      "<*ABS*+0x9efa0@plt>\n",
      "<*ABS*+0x9eff0@plt>\n",
      "<*ABS*+0x9f040@plt>\n",
      "<*ABS*+0x9f0e0@plt>\n",
      "<*ABS*+0xa07c0@plt>\n",
      "<*ABS*+0xa07f0@plt>\n",
      "<*ABS*+0xa86c0@plt>\n",
      "<*ABS*+0xbc0f0@plt>\n",
      "<*ABS*+0xbceb0@plt>\n",
      "<*ABS*+0xbd410@plt>\n",
      "<*ABS*+0xbd4c0@plt>\n",
      "<*ABS*+0xbe6c0@plt>\n",
      "<*ABS*+0xd2980@plt>\n",
      "<*ABS*+0xd2a60@plt>\n",
      "<calloc@plt>\n",
      "<_dl_exception_create@plt>\n",
      "<_dl_find_dso_for_object@plt>\n",
      "<free@plt>\n",
      "<malloc@plt>\n",
      "<memalign@plt>\n",
      "<realloc@plt>\n",
      "<__tls_get_addr@plt>\n",
      "<__tunable_get_val@plt>\n"
     ]
    }
   ],
   "source": [
    "objdump -D /lib/x86_64-linux-gnu/libc.so.6 | grep -o '<.*@plt>' | sort | uniq"
   ]
  },
  {
   "cell_type": "markdown",
   "metadata": {},
   "source": [
    "## So what *can* we do?"
   ]
  },
  {
   "cell_type": "markdown",
   "metadata": {},
   "source": [
    "There are a few way around this.\n",
    "\n",
    "* Interpose every entry point into glibc that could end up calling the functionality we want to modify. This could work, but developing and maintaining 100% coverage is difficult. We'd also end up having to reimplement parts of libc. e.g. if we write a wrapper for `fwrite`, and want to interpose on the individual `write` system calls, we'd have to reimplement the in-memory buffering that `fwrite` puts in between the two ourselves (or forgo it).\n",
    "* Patch glibc to make calls via the PLT, so that we can interpose them via `LD_PRELOAD`. We could then inject our custom glibc as another `LD_PRELOAD` library as done [here](https://github.com/sporksmith/interpose-demo). This seems like a promising shortcut, but could result in subtle issues if our patched glibc isn't binary-compatible with the headers that the target code was compiled against; e.g. uses different `struct` or constant definitions. We could prevent those difficulties by recompiling the target software (and its dependencies, recursively) against our patched glibc and its headers, but this negates the usual advantage of `LD_PRELOAD` techniques of not having to recompile.\n",
    "* Use a different interposition mechanism than `LD_PRELOAD`. In particular, `ptrace` tells the OS kernel to intercept the system calls themselves, ensuring that we see every system call regardless of what function it's coming from, whether the program is statically linked, or even if the `syscall` instructions themselves are inlined. This works best when the behavior we're trying to modify is at the syscall level. It may also have different performance characteristics though, especially if there are other syscalls we're *not* interested in intercepting. We also can't attach a debugger to a program that is already being `ptrace`'d, making debugging more difficult."
   ]
  }
 ],
 "metadata": {
  "kernelspec": {
   "display_name": "Bash",
   "language": "bash",
   "name": "bash"
  },
  "language_info": {
   "codemirror_mode": "shell",
   "file_extension": ".sh",
   "mimetype": "text/x-sh",
   "name": "bash"
  }
 },
 "nbformat": 4,
 "nbformat_minor": 4
}
