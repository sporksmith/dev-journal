{
 "cells": [
  {
   "cell_type": "markdown",
   "metadata": {},
   "source": [
    "## Using raw pointers\n",
    "\n",
    "In Shadow, we have object graphs. A Host has some processes, a process has some threads, etc. Let's start by directly translating that structure. We'll start with just sketching out `Host`:"
   ]
  },
  {
   "cell_type": "code",
   "execution_count": 2,
   "metadata": {},
   "outputs": [],
   "source": [
    "mod literal_translation {\n",
    "    use std::collections::HashMap;\n",
    "\n",
    "    struct Host {\n",
    "        ref_count : i32,\n",
    "        processes : HashMap<i32, *mut Process>,\n",
    "    }\n",
    "\n",
    "    fn host_new() -> *mut Host {\n",
    "        // Allocate a pointer on the heap, and then convert to a raw pointer.\n",
    "        Box::into_raw(Box::new(Host{ref_count: 1, processes: HashMap::new()}))\n",
    "    }\n",
    "\n",
    "    unsafe fn host_inc(hostp : *mut Host) {\n",
    "        let host : &mut Host;\n",
    "        host = &mut *hostp;\n",
    "        host.ref_count += 1;\n",
    "    }\n",
    "\n",
    "    unsafe fn host_dec(hostp : *mut Host) {\n",
    "        let host : &mut Host;\n",
    "        host = &mut *hostp;\n",
    "        host.ref_count -= 1;\n",
    "        if host.ref_count == 0 {\n",
    "            // Transfer ownership into the Box object and let it get dropped.\n",
    "            Box::from_raw(hostp);\n",
    "        }\n",
    "    }\n",
    "\n",
    "    struct Process {}\n",
    "}"
   ]
  },
  {
   "cell_type": "markdown",
   "metadata": {},
   "source": [
    "## Using Rc (reference counted objects)\n",
    "\n",
    "Let's use Rust's memory management instead of our manual ref-counting."
   ]
  },
  {
   "cell_type": "code",
   "execution_count": 3,
   "metadata": {},
   "outputs": [],
   "source": [
    "mod using_rc {\n",
    "    use std::rc::Rc;\n",
    "    use std::collections::HashMap;\n",
    "\n",
    "    struct Host {\n",
    "        // We now store ref-counted Process objects instead of raw pointers.\n",
    "        processes : HashMap<i32, Rc<Process>>,\n",
    "    }\n",
    "\n",
    "    impl Host {\n",
    "        // Our idiomatic constructor returns a literal Host objects; it's up to the caller\n",
    "        // to move that into an Rc<Host>.\n",
    "        fn new() -> Host {\n",
    "            Host{processes: HashMap::new()}\n",
    "        }\n",
    "    }\n",
    "    \n",
    "    // Increment and decrement no longer needed!\n",
    "    \n",
    "   struct Process {}\n",
    "}"
   ]
  },
  {
   "cell_type": "markdown",
   "metadata": {},
   "source": [
    "## Storing references\n",
    "\n",
    "Unfortunately things get complicated when a process needs to access the host to which it belongs. Let's try the simplest thing that might work: storing a reference. We have to do add some lifetime specifiers as a result, effectively telling Rust that the Host must outlive the Process, which seems reasonable enough. We can get the structure definitions and `Process::new` to compile:"
   ]
  },
  {
   "cell_type": "code",
   "execution_count": 4,
   "metadata": {},
   "outputs": [],
   "source": [
    "mod ref_to_parent {\n",
    "    use std::rc::Rc;\n",
    "    use std::collections::HashMap;\n",
    "\n",
    "    struct Host<'a> {\n",
    "        processes : HashMap<i32, Rc<Process<'a>>>,\n",
    "    }\n",
    "\n",
    "    struct Process<'a> {\n",
    "        host: &'a Host<'a>,\n",
    "    }\n",
    "    \n",
    "    impl<'a> Process<'a> {\n",
    "        fn new(host : &'a Host<'a>) -> Process<'a> {\n",
    "            Process{host}\n",
    "        }\n",
    "    }\n",
    "}"
   ]
  },
  {
   "cell_type": "markdown",
   "metadata": {},
   "source": [
    "Once we actually try to spawn a new process, though, we run into trouble:"
   ]
  },
  {
   "cell_type": "code",
   "execution_count": 5,
   "metadata": {},
   "outputs": [
    {
     "ename": "Error",
     "evalue": "cannot borrow `self.processes` as mutable because it is also borrowed as immutable",
     "output_type": "error",
     "traceback": [
      "            self.processes.insert(self.next_pid, Rc::new(Process::new(self)));",
      "\u001b[91m            ^^^^^^^^^^^^^^^^^^^^^^^^^^^^^^^^^^^^^^^^^^^^^^^^^^^^^^^^^^^^^^^^^\u001b[0m \u001b[94mmutable borrow occurs here\u001b[0m",
      "            self.processes.insert(self.next_pid, Rc::new(Process::new(self)));",
      "\u001b[91m                                                                      ^^^^\u001b[0m \u001b[94mimmutable borrow occurs here\u001b[0m",
      "    impl<'a> Host<'a> {",
      "\u001b[91m         ^^\u001b[0m \u001b[94mlifetime `'a` defined here\u001b[0m",
      "            self.processes.insert(self.next_pid, Rc::new(Process::new(self)));",
      "\u001b[91m                                                         ^^^^^^^^^^^^^^^^^^\u001b[0m \u001b[94margument requires that `*self` is borrowed for `'a`\u001b[0m",
      "cannot borrow `self.processes` as mutable because it is also borrowed as immutable"
     ]
    },
    {
     "ename": "Error",
     "evalue": "cannot assign to `self.next_pid` because it is borrowed",
     "output_type": "error",
     "traceback": [
      "            self.processes.insert(self.next_pid, Rc::new(Process::new(self)));",
      "\u001b[91m                                                                      ^^^^\u001b[0m \u001b[94mborrow of `self.next_pid` occurs here\u001b[0m",
      "            self.next_pid += 1;",
      "\u001b[91m            ^^^^^^^^^^^^^^^^^^\u001b[0m \u001b[94massignment to borrowed `self.next_pid` occurs here\u001b[0m",
      "    impl<'a> Host<'a> {",
      "\u001b[91m         ^^\u001b[0m \u001b[94mlifetime `'a` defined here\u001b[0m",
      "            self.processes.insert(self.next_pid, Rc::new(Process::new(self)));",
      "\u001b[91m                                                         ^^^^^^^^^^^^^^^^^^\u001b[0m \u001b[94margument requires that `*self` is borrowed for `'a`\u001b[0m",
      "cannot assign to `self.next_pid` because it is borrowed"
     ]
    }
   ],
   "source": [
    "mod ref_to_parent {\n",
    "    use std::rc::Rc;\n",
    "    use std::collections::HashMap;\n",
    "\n",
    "    struct Host<'a> {\n",
    "        next_pid : i32,\n",
    "        processes : HashMap<i32, Rc<Process<'a>>>,\n",
    "    }\n",
    "    \n",
    "    impl<'a> Host<'a> {\n",
    "        fn spawn_process(&'a mut self) {\n",
    "            self.processes.insert(self.next_pid, Rc::new(Process::new(self)));\n",
    "            self.next_pid += 1;\n",
    "        }\n",
    "    }\n",
    "    \n",
    "    struct Process<'a> {\n",
    "        host: &'a Host<'a>,\n",
    "    }\n",
    "    \n",
    "    impl<'a> Process<'a> {\n",
    "        fn new(host : &'a Host<'a>) -> Process<'a> {\n",
    "            Process{host}\n",
    "        }\n",
    "    }\n",
    "}"
   ]
  },
  {
   "cell_type": "markdown",
   "metadata": {},
   "source": [
    "Rust prevents a mutable reference and an immutable reference to a single object from existing at the same time. If we want to store a reference in a `Process` to its `Host`, we can never create a mutable reference to `Host` again. We can get a bit further though with *interior mutability* - putting any mutations that need to happen inside a guarded data structure, such as `RefCell`, such that those operations can be done from an *immutable* reference."
   ]
  },
  {
   "cell_type": "code",
   "execution_count": 6,
   "metadata": {},
   "outputs": [
    {
     "data": {
      "text/plain": [
       "()"
      ]
     },
     "execution_count": 6,
     "metadata": {},
     "output_type": "execute_result"
    }
   ],
   "source": [
    "mod ref_to_parent_with_refcell {\n",
    "    use std::rc::Rc;\n",
    "    use std::collections::HashMap;\n",
    "    use std::cell::RefCell;\n",
    "\n",
    "    pub struct Host<'a> {\n",
    "        next_pid : RefCell<i32>,\n",
    "        processes : RefCell<HashMap<i32, Rc<Process<'a>>>>,\n",
    "    }\n",
    "    \n",
    "    impl<'a> Host<'a> {\n",
    "        pub fn new() -> Host<'a> {\n",
    "            Host { next_pid : RefCell::new(0), processes : RefCell::new(HashMap::new())}\n",
    "        }\n",
    "        pub fn spawn_process(&'a self) {\n",
    "            self.processes.borrow_mut().insert(*self.next_pid.borrow(), Rc::new(Process::new(self)));\n",
    "            *self.next_pid.borrow_mut() += 1;\n",
    "        }\n",
    "    }\n",
    "    \n",
    "    struct Process<'a> {\n",
    "        host: &'a Host<'a>,\n",
    "    }\n",
    "    \n",
    "    impl<'a> Process<'a> {\n",
    "        fn new(parent : &'a Host<'a>) -> Process<'a> {\n",
    "            Process{host: parent}\n",
    "        }\n",
    "    }\n",
    "}\n",
    "\n",
    "{\n",
    "    use ref_to_parent_with_refcell as m;\n",
    "    let h = m::Host::new();\n",
    "    h.spawn_process();\n",
    "}\n",
    "\n"
   ]
  },
  {
   "cell_type": "markdown",
   "metadata": {},
   "source": [
    "How does Rust actually prevent the reference from process to host from dangling? Let's try it and see where things go wrong."
   ]
  },
  {
   "cell_type": "code",
   "execution_count": 7,
   "metadata": {},
   "outputs": [
    {
     "ename": "Error",
     "evalue": "`h` does not live long enough",
     "output_type": "error",
     "traceback": [
      "      h.spawn_process();",
      "\u001b[91m      ^\u001b[0m \u001b[94mborrowed value does not live long enough\u001b[0m",
      "    };",
      "\u001b[91m    ^\u001b[0m \u001b[94m`h` dropped here while still borrowed\u001b[0m",
      "    let _p = {",
      "\u001b[91m        ^^\u001b[0m \u001b[94mborrow later stored here\u001b[0m",
      "`h` does not live long enough"
     ]
    }
   ],
   "source": [
    "mod drop_ref_to_parent_with_refcell {\n",
    "    use std::rc::Rc;\n",
    "    use std::collections::HashMap;\n",
    "    use std::cell::RefCell;\n",
    "\n",
    "    pub struct Host<'a> {\n",
    "        next_pid : RefCell<i32>,\n",
    "        processes : RefCell<HashMap<i32, Rc<Process<'a>>>>,\n",
    "    }\n",
    "\n",
    "    impl<'a> Host<'a> {\n",
    "        pub fn new() -> Host<'a> {\n",
    "            Host { next_pid : RefCell::new(0), processes : RefCell::new(HashMap::new())}\n",
    "        }\n",
    "        pub fn spawn_process(&'a self) {\n",
    "            let mut next_pid = self.next_pid.borrow_mut();\n",
    "            self.processes.borrow_mut().insert(*next_pid, Rc::new(Process::new(self, *next_pid)));\n",
    "            *next_pid += 1;\n",
    "        }\n",
    "        pub fn get_process(&self, pid : i32) -> Rc<Process<'a>> {\n",
    "            self.processes.borrow().get(&pid).unwrap().clone()            \n",
    "        }\n",
    "    }\n",
    "      \n",
    "    pub struct Process<'a> {\n",
    "        host: &'a Host<'a>,\n",
    "        pid: i32,\n",
    "    }\n",
    "    \n",
    "    impl<'a> Process<'a> {\n",
    "        fn new(parent : &'a Host<'a>, pid: i32) -> Process<'a> {\n",
    "            Process{host: parent, pid}\n",
    "        }\n",
    "    }\n",
    "}\n",
    "\n",
    "{\n",
    "    use drop_ref_to_parent_with_refcell as m;\n",
    "    let _p = {\n",
    "      let h = m::Host::new();\n",
    "      h.spawn_process();\n",
    "      h.get_process(0)\n",
    "    };\n",
    "}"
   ]
  },
  {
   "cell_type": "markdown",
   "metadata": {},
   "source": [
    "Ah ha - because the `Process`'s type is parameterized with its `Host`'s lifetime, Rust won't allow a `Process` object to outlive its `Host`.\n",
    "\n",
    "I suspect we'd run into trouble though proving to the compiler that this constraint is satisfied. Interestingly, it looks like if we implement the drop trait, the host becomes undroppable after calling `spawn_process`:"
   ]
  },
  {
   "cell_type": "code",
   "execution_count": 2,
   "metadata": {},
   "outputs": [
    {
     "ename": "Error",
     "evalue": "`h` does not live long enough",
     "output_type": "error",
     "traceback": [
      "    h.spawn_process();",
      "\u001b[91m    ^\u001b[0m \u001b[94mborrowed value does not live long enough\u001b[0m",
      "}",
      "\u001b[91m^\u001b[0m \u001b[94m`h` dropped here while still borrowed\u001b[0m",
      "}",
      "\u001b[91m^\u001b[0m \u001b[94mborrow might be used here, when `h` is dropped and runs the `Drop` code for type `drop_ref_to_parent_with_refcell::Host`\u001b[0m",
      "`h` does not live long enough"
     ]
    }
   ],
   "source": [
    "mod drop_ref_to_parent_with_refcell {\n",
    "    use std::rc::Rc;\n",
    "    use std::collections::HashMap;\n",
    "    use std::cell::RefCell;\n",
    "\n",
    "    pub struct Host<'a> {\n",
    "        next_pid : RefCell<i32>,\n",
    "        processes : RefCell<HashMap<i32, Rc<Process<'a>>>>,\n",
    "    }\n",
    "\n",
    "    impl<'a> Host<'a> {\n",
    "        pub fn new() -> Host<'a> {\n",
    "            Host { next_pid : RefCell::new(0), processes : RefCell::new(HashMap::new())}\n",
    "        }\n",
    "        pub fn spawn_process(&'a self) {\n",
    "            let mut next_pid = self.next_pid.borrow_mut();\n",
    "            self.processes.borrow_mut().insert(*next_pid, Rc::new(Process::new(self, *next_pid)));\n",
    "            *next_pid += 1;\n",
    "        }\n",
    "        pub fn get_process(&self, pid : i32) -> Rc<Process<'a>> {\n",
    "            self.processes.borrow().get(&pid).unwrap().clone()            \n",
    "        }\n",
    "    }\n",
    "    impl<'a> Drop for Host<'a> {\n",
    "        fn drop(&mut self) {\n",
    "            println!(\"Dropped host!\");\n",
    "        }\n",
    "    }\n",
    "      \n",
    "    pub struct Process<'a> {\n",
    "        host: &'a Host<'a>,\n",
    "        pid: i32,\n",
    "    }\n",
    "    \n",
    "    impl<'a> Process<'a> {\n",
    "        fn new(parent : &'a Host<'a>, pid: i32) -> Process<'a> {\n",
    "            Process{host: parent, pid}\n",
    "        }\n",
    "    }\n",
    "}\n",
    "\n",
    "{\n",
    "    use drop_ref_to_parent_with_refcell as m;\n",
    "    let h = m::Host::new();\n",
    "    h.spawn_process();\n",
    "}"
   ]
  },
  {
   "cell_type": "markdown",
   "metadata": {},
   "source": [
    "## Storing weak pointers\n",
    "\n",
    "We could relax the static constraints by using a `Weak` reference object. This lets us drop the lifetime parameters, but when we need to dereference such an object, we need to promote it:"
   ]
  },
  {
   "cell_type": "code",
   "execution_count": 9,
   "metadata": {},
   "outputs": [
    {
     "name": "stdout",
     "output_type": "stream",
     "text": [
      "Process method, accessing Host. Host's next_pid: 1\n",
      "Dropped host!\n"
     ]
    },
    {
     "data": {
      "text/plain": [
       "()"
      ]
     },
     "execution_count": 9,
     "metadata": {},
     "output_type": "execute_result"
    }
   ],
   "source": [
    "mod weak_ref {\n",
    "    use std::rc::{Rc, Weak};\n",
    "    use std::collections::HashMap;\n",
    "    use std::cell::RefCell;\n",
    "\n",
    "    pub struct Host {\n",
    "        next_pid : RefCell<i32>,\n",
    "        processes : RefCell<HashMap<i32, Rc<Process>>>,\n",
    "    }\n",
    "    \n",
    "    impl Host {\n",
    "        pub fn new() -> Host {\n",
    "            Host { next_pid : RefCell::new(0), processes : RefCell::new(HashMap::new())}\n",
    "        }\n",
    "\n",
    "        pub fn get_process(&self, pid : i32) -> Rc<Process> {\n",
    "            self.processes.borrow().get(&pid).unwrap().clone()            \n",
    "        }\n",
    "    }\n",
    "\n",
    "    // Implementing Drop is now ok.\n",
    "    impl Drop for Host {\n",
    "        fn drop(&mut self) {\n",
    "            println!(\"Dropped host!\");\n",
    "        }\n",
    "    }\n",
    "    \n",
    "    // To create a weak reference for the host, we need its `Rc` wrapper; `self` is insufficient.\n",
    "    // Since passing `self` would be redundant (and an opportunity to provide inconsistent inputs),\n",
    "    // I pulled this out to a standalone function.\n",
    "    pub fn spawn_process(host: &Rc<Host>) {\n",
    "        let weak = Rc::downgrade(host);\n",
    "        host.processes.borrow_mut().insert(*host.next_pid.borrow(), Rc::new(Process::new(weak)));\n",
    "        *host.next_pid.borrow_mut() += 1;\n",
    "    }\n",
    "    \n",
    "    pub struct Process {\n",
    "        host: Weak<Host>,\n",
    "    }\n",
    "    \n",
    "    impl Process {\n",
    "        fn new(parent : Weak<Host>) -> Process {\n",
    "            Process{host: parent}\n",
    "        }\n",
    "        pub fn run(&self) {\n",
    "            // We need to upgrade the weak pointer to an Rc pointer. The `unwrap` will panic\n",
    "            // at runtime if the `Host` no longer exists.\n",
    "            let h = self.host.upgrade().unwrap();\n",
    "            println!(\"Process method, accessing Host. Host's next_pid: {}\", *h.next_pid.borrow())\n",
    "        }\n",
    "    }\n",
    "}\n",
    "\n",
    "{\n",
    "    use weak_ref as m;\n",
    "    use std::rc::Rc;\n",
    "    let h = Rc::new(m::Host::new());\n",
    "    m::spawn_process(&h);\n",
    "    let p = h.get_process(0);\n",
    "    p.run();\n",
    "}"
   ]
  },
  {
   "cell_type": "markdown",
   "metadata": {},
   "source": [
    "We could avoid having to upgrade the `Weak` into an `Rc` in the process by just directly storing an `Rc`, but this would create a cycle. We could still break those cycles when tearing things down - e.g. when explicitly tearing down a `Host` we could clear its `processes` map, which should cause those to get GC'd, which in turn should allow the `Host` to be GC'd. This is close to what Shadow currently does, which indeed occasionally results in memory leaks. If we we went that way, we'd probably want to prioritize investigating leak-detection tooling.\n",
    "\n",
    "So far all of the above doesn't use any locks. There are some run-time checks in `Rc` and `RefCell`, but they are lockless. `RefCell` *does* implement `Send`, meaning we can *transfer* it and its containing structs between threads, but `Rc` implements neither `Send` nor `Sync`. An `Rc` can't be transferred between threads because there could be other outstanding `Weak` or `Rc` objects referring to the same underlying data, and it wouldn't be safe to have those being accessed by different threads."
   ]
  },
  {
   "cell_type": "code",
   "execution_count": 10,
   "metadata": {
    "scrolled": true
   },
   "outputs": [
    {
     "ename": "Error",
     "evalue": "`std::rc::Rc<weak_ref::Host>` cannot be sent between threads safely",
     "output_type": "error",
     "traceback": [
      "    let worker = thread::spawn(move || {",
      "\u001b[91m                 ^^^^^^^^^^^^^\u001b[0m \u001b[94m`std::rc::Rc<weak_ref::Host>` cannot be sent between threads safely\u001b[0m",
      "    let worker = thread::spawn(move || {",
      "        let p = h.get_process(0);",
      "        p.run();",
      "    });",
      "\u001b[91m                               \u001b[0m \u001b[94mwithin this `[closure@src/lib.rs:291:32: 294:6 h:std::rc::Rc<weak_ref::Host>]`\u001b[0m",
      "`std::rc::Rc<weak_ref::Host>` cannot be sent between threads safely"
     ]
    }
   ],
   "source": [
    "{\n",
    "    use weak_ref as m;\n",
    "    use std::rc::Rc;\n",
    "    use std::thread;\n",
    "    \n",
    "    let h = Rc::new(m::Host::new());\n",
    "    m::spawn_process(&h);\n",
    "    let worker = thread::spawn(move || {\n",
    "        let p = h.get_process(0);\n",
    "        p.run();\n",
    "    });\n",
    "}"
   ]
  },
  {
   "cell_type": "markdown",
   "metadata": {},
   "source": [
    "We could simply replace these with their thread-safe counterparts `Arc` and `Mutex`, but that would introduce a fair amount of locking overhead, which shouldn't be necessary given that the whole object graph conceptually only belongs to a single thread at once.\n",
    "\n",
    "Unfortunately, with this design its difficult to prove to the Rust compiler that the whole object graph is transferred from one thread to another -- that there aren't any lingering references. We could circumvent Rust's thread-safety checks by using `unsafe` to \"smuggle\" a `Host` across threads as a raw pointer. This should be safe as long as there really are no \"reference leaks\"."
   ]
  },
  {
   "cell_type": "code",
   "execution_count": 23,
   "metadata": {},
   "outputs": [
    {
     "name": "stdout",
     "output_type": "stream",
     "text": [
      "Process method, accessing Host. Host's next_pid: 1\n",
      "Dropped host!\n"
     ]
    },
    {
     "data": {
      "text/plain": [
       "()"
      ]
     },
     "execution_count": 23,
     "metadata": {},
     "output_type": "execute_result"
    }
   ],
   "source": [
    "{\n",
    "    use weak_ref as m;\n",
    "    use std::rc::Rc;\n",
    "    use std::thread;\n",
    "    \n",
    "    let h = Rc::new(m::Host::new());\n",
    "    m::spawn_process(&h);\n",
    "    // Smuggle the host into the worker thread as a pointer, disguised as an integer.\n",
    "    // I *think* this is safe as long as graph of objects reachable from the host really\n",
    "    // is partitioned from all other objects. e.g. Rust wouldn't know to stop us here if\n",
    "    // we continued to hold another Rc to the host or its internals, but accessing those\n",
    "    // objects before we smuggle ownership of the host back to this scope would be undefined behavior.\n",
    "    let host_ptr = Rc::into_raw(h) as usize;\n",
    "    let worker = thread::spawn(move || {\n",
    "        let h = unsafe { \n",
    "            Rc::from_raw(host_ptr as *const m::Host)\n",
    "        };\n",
    "        let p = h.get_process(0);\n",
    "        p.run();\n",
    "        // Smuggle the host back to the scheduler.\n",
    "        Rc::into_raw(h) as usize\n",
    "    });\n",
    "    let h = unsafe { Rc::from_raw(worker.join().unwrap() as *const m::Host) };\n",
    "}"
   ]
  },
  {
   "cell_type": "markdown",
   "metadata": {},
   "source": [
    "The above approach is probably workable, but gives up some of Rust's safety. I *think* this is safe if we only do the unsafe `Rc` transfer in one place (when scheduling `Host`s onto worker threads), and if from that scope the only way to reach the objects to which that graph refers are through the `Host`."
   ]
  },
  {
   "cell_type": "markdown",
   "metadata": {},
   "source": [
    "## Passing the graph around explicitly\n",
    "\n",
    "Instead of objects storing references to other parts of the object graph, we could pass them in as method parameters when appropriate. e.g. since the `Host` should be the root of the graph that any of these need to access, we could pass it around to most methods, and in the objects themselves only store identifiers that can be used to look up parts of the graph as needed (e.g. `pid`s, `tid`'s, etc).\n",
    "\n",
    "Note though that from a `Host` method, we can't pass a mutable reference to the `Host` itself to a method on one of the child object it owns, since that'd invalidate the reference to the child:"
   ]
  },
  {
   "cell_type": "code",
   "execution_count": 29,
   "metadata": {},
   "outputs": [
    {
     "ename": "Error",
     "evalue": "cannot borrow `*self` as mutable because it is also borrowed as immutable",
     "output_type": "error",
     "traceback": [
      "                process.run(self);",
      "\u001b[91m                ^^^^^^^^^^^^^^^^^\u001b[0m \u001b[94mmutable borrow occurs here\u001b[0m",
      "            for (_pid, process) in self.processes.iter() {",
      "\u001b[91m                                   ^^^^^^^^^^^^^^\u001b[0m \u001b[94mimmutable borrow occurs here\u001b[0m",
      "            for (_pid, process) in self.processes.iter() {",
      "\u001b[91m                                   ^^^^^^^^^^^^^^^^^^^^^\u001b[0m \u001b[94mimmutable borrow later used here\u001b[0m",
      "cannot borrow `*self` as mutable because it is also borrowed as immutable"
     ]
    }
   ],
   "source": [
    "mod passing_mutable_graph_root {\n",
    "    use std::collections::HashMap;\n",
    "\n",
    "    pub struct Host {\n",
    "        processes : HashMap<i32, Process>,\n",
    "    }\n",
    "    \n",
    "    impl Host {\n",
    "        fn run_processes(&mut self) {\n",
    "            for (_pid, process) in self.processes.iter() {\n",
    "                process.run(self);\n",
    "            }\n",
    "        }\n",
    "    }\n",
    "    \n",
    "    pub struct Process {}\n",
    "    \n",
    "    impl Process {\n",
    "        fn run(&self, _host : &mut Host) {\n",
    "        }\n",
    "    }\n",
    "}"
   ]
  },
  {
   "cell_type": "markdown",
   "metadata": {},
   "source": [
    "So, we'd still need to pass around *immutable* references and use `RefCell` or similar to implement internal mutability.\n",
    "\n",
    "Since we're not using `Rc` wrappers though, the `Host` doesn't actually have a way to return a reference to other objects it owns. Here's a failed attempt:"
   ]
  },
  {
   "cell_type": "code",
   "execution_count": 10,
   "metadata": {},
   "outputs": [
    {
     "ename": "Error",
     "evalue": "cannot return value referencing temporary value",
     "output_type": "error",
     "traceback": [
      "            self.processes.borrow().get(&pid).unwrap().borrow()",
      "\u001b[91m            ^^^^^^^^^^^^^^^^^^^^^^^^^^^^^^^^^^^^^^^^^^^^^^^^^^^\u001b[0m \u001b[94mreturns a value referencing data owned by the current function\u001b[0m",
      "            self.processes.borrow().get(&pid).unwrap().borrow()",
      "\u001b[91m            ^^^^^^^^^^^^^^^^^^^^^^^\u001b[0m \u001b[94mtemporary value created here\u001b[0m",
      "cannot return value referencing temporary value"
     ]
    }
   ],
   "source": [
    "mod passing_immutable_graph_root {\n",
    "    use std::collections::HashMap;\n",
    "    use std::cell::{Ref, RefCell};\n",
    "\n",
    "    pub struct Host {\n",
    "        next_pid : RefCell<i32>,\n",
    "        processes : RefCell<HashMap<i32, RefCell<Process>>>,\n",
    "    }\n",
    "    \n",
    "    impl Host {\n",
    "        pub fn new() -> Host {\n",
    "            Host { next_pid : RefCell::new(0), processes : RefCell::new(HashMap::new())}\n",
    "        }\n",
    "\n",
    "        pub fn get_process<'a>(&'a self, pid : i32) -> Ref<'a, Process> {\n",
    "            self.processes.borrow().get(&pid).unwrap().borrow()\n",
    "        }\n",
    "    \n",
    "        pub fn spawn_process(&self) {\n",
    "            let mut next_pid = self.next_pid.borrow_mut();\n",
    "            let mut processes = self.processes.borrow_mut();\n",
    "            (*processes).insert(*next_pid, RefCell::new(Process::new(*next_pid)));\n",
    "            (*next_pid) += 1;\n",
    "        }\n",
    "    }\n",
    "    \n",
    "    pub struct Process {\n",
    "        pid : i32,\n",
    "    }\n",
    "    \n",
    "    impl Process {\n",
    "        fn new(pid : i32) -> Process {\n",
    "            Process{pid}\n",
    "        }\n",
    "        pub fn run(&self, host: &Host) {\n",
    "            println!(\"Process method, accessing Host. Host's next_pid: {}\", *host.next_pid.borrow())\n",
    "        }\n",
    "    }\n",
    "}\n",
    "\n",
    "{\n",
    "    use passing_immutable_graph_root as m;\n",
    "    let h = m::Host::new();\n",
    "    h.spawn_process();\n",
    "    let p = h.get_process(0);\n",
    "    p.run(&h);\n",
    "}"
   ]
  },
  {
   "cell_type": "markdown",
   "metadata": {},
   "source": [
    "## Using arenas\n",
    "\n",
    "The problem above is due to nested ownership. Since processes are nested under the host, we can't borrow a single process without also borrowing the host to which it belongs. \n",
    "\n",
    "We can get it working by flattening out ownership, passing around a \"dumb\" arena object rather than the `Host` itself. This lets us do most/all of the `RefCell` manipulation when borrowing individual objects from the arena. As expected, we can safely transfer the arena between threads."
   ]
  },
  {
   "cell_type": "code",
   "execution_count": 39,
   "metadata": {},
   "outputs": [
    {
     "name": "stdout",
     "output_type": "stream",
     "text": [
      "Process method, accessing Host. Host's next_pid: 1\n"
     ]
    },
    {
     "data": {
      "text/plain": [
       "()"
      ]
     },
     "execution_count": 39,
     "metadata": {},
     "output_type": "execute_result"
    }
   ],
   "source": [
    "mod passing_arena {\n",
    "    use std::collections::HashMap;\n",
    "    use std::cell::{Ref, RefCell};\n",
    "    \n",
    "    pub struct HostArena {\n",
    "        pub host : RefCell<Host>,\n",
    "        pub processes : RefCell<HashMap<i32, RefCell<Process>>>,\n",
    "    }\n",
    "    impl HostArena {\n",
    "        pub fn new() -> Self {\n",
    "            Self { host: RefCell::new(Host::new()), processes : RefCell::new(HashMap::new())}\n",
    "        }\n",
    "    }\n",
    "    \n",
    "    pub struct Host {\n",
    "        // Notice that internals of Host no longer necessarily need to be wrapped in RefCell,\n",
    "        // since the host itself is wrapped in a RefCell.\n",
    "        next_pid : i32,\n",
    "    }\n",
    "    \n",
    "    impl Host {\n",
    "        pub fn new() -> Host {\n",
    "            Host { next_pid : 0 }\n",
    "        }\n",
    "    \n",
    "        pub fn spawn_process(&mut self, host_arena : &HostArena) {\n",
    "            let mut processes = host_arena.processes.borrow_mut();\n",
    "            (*processes).insert(self.next_pid, RefCell::new(Process::new(self.next_pid)));\n",
    "            (self.next_pid) += 1;\n",
    "        }\n",
    "    }\n",
    "    \n",
    "    pub struct Process {\n",
    "        pid : i32,\n",
    "    }\n",
    "    \n",
    "    impl Process {\n",
    "        fn new(pid : i32) -> Process {\n",
    "            Process{pid}\n",
    "        }\n",
    "        pub fn run(&self, host_arena : &HostArena) {\n",
    "            println!(\"Process method, accessing Host. Host's next_pid: {}\", host_arena.host.borrow().next_pid)\n",
    "        }\n",
    "    }\n",
    "}\n",
    "\n",
    "{\n",
    "    use std::thread;\n",
    "\n",
    "    // Set up the host arena with one process on one thread...\n",
    "    use passing_arena as m;\n",
    "    let host_arena = m::HostArena::new();\n",
    "    {\n",
    "        // Limit the scope of the mutable borrow.\n",
    "        let mut host = host_arena.host.borrow_mut();\n",
    "        host.spawn_process(&host_arena);\n",
    "    }\n",
    "    \n",
    "    // Move the arena into a worker thread and run it there.\n",
    "    // Since we're no longer using Rc, the arena is `Send`\n",
    "    // (can be safely transferred between threads).\n",
    "    let worker = thread::spawn(move || {\n",
    "        let processes = host_arena.processes.borrow();\n",
    "        processes.get(&0).unwrap().borrow().run(&host_arena);\n",
    "    });\n",
    "    worker.join();\n",
    "}"
   ]
  }
 ],
 "metadata": {
  "kernelspec": {
   "display_name": "Rust",
   "language": "rust",
   "name": "rust"
  },
  "language_info": {
   "codemirror_mode": "rust",
   "file_extension": ".rs",
   "mimetype": "text/rust",
   "name": "Rust",
   "pygment_lexer": "rust",
   "version": ""
  }
 },
 "nbformat": 4,
 "nbformat_minor": 4
}
